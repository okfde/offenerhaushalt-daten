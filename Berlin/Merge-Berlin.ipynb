{
 "cells": [
  {
   "cell_type": "code",
   "execution_count": 5,
   "metadata": {},
   "outputs": [],
   "source": [
    "import pandas as pd"
   ]
  },
  {
   "cell_type": "code",
   "execution_count": 6,
   "metadata": {},
   "outputs": [],
   "source": [
    "import os"
   ]
  },
  {
   "cell_type": "code",
   "execution_count": 7,
   "metadata": {},
   "outputs": [
    {
     "name": "stdout",
     "output_type": "stream",
     "text": [
      "2015_Ist.csv  berlin-gesamt.csv  hpl1617.csv  Merge-Berlin.ipynb\r\n",
      "2016_Ist.csv  hpl1415.csv        hpl1819.csv\r\n"
     ]
    }
   ],
   "source": [
    "ls"
   ]
  },
  {
   "cell_type": "code",
   "execution_count": 8,
   "metadata": {},
   "outputs": [],
   "source": [
    "ist2015 = pd.read_csv('2015_Ist.csv', thousands='.', decimal=',')\n",
    "ist2016 = pd.read_csv('2016_Ist.csv', thousands='.', decimal=',')\n",
    "plan2015 = pd.read_csv('hpl1415.csv', thousands='.', decimal=',')\n",
    "plan2017= pd.read_csv('hpl1617.csv', thousands='.', decimal=',')\n",
    "plan2019 = pd.read_csv('hpl1819.csv', thousands='.', decimal=',')"
   ]
  },
  {
   "cell_type": "code",
   "execution_count": 9,
   "metadata": {},
   "outputs": [],
   "source": [
    "del ist2015['Ansatz']\n",
    "ist2015['Jahr'] = 2015\n",
    "ist2015['BetragTyp'] = 'Ist'\n",
    "ist2015 = ist2015.rename(columns = {'Ist': 'Betrag'})"
   ]
  },
  {
   "cell_type": "code",
   "execution_count": 10,
   "metadata": {},
   "outputs": [],
   "source": [
    "del ist2016['Ansatz']\n",
    "ist2016['Jahr'] = 2016\n",
    "ist2016['BetragTyp'] = 'Ist'\n",
    "ist2016 = ist2016.rename(columns = {'Ist': 'Betrag'})"
   ]
  },
  {
   "cell_type": "code",
   "execution_count": 11,
   "metadata": {},
   "outputs": [],
   "source": [
    "plan2014 = plan2015.rename(columns={'Ansatz 2014 in €': 'Betrag'}).copy()\n",
    "del plan2014['Ansatz 2015 €']\n",
    "plan2014['Jahr'] = 2014\n",
    "plan2014['BetragTyp'] = 'Soll'"
   ]
  },
  {
   "cell_type": "code",
   "execution_count": 12,
   "metadata": {},
   "outputs": [],
   "source": [
    "plan2015 = plan2015.rename(columns={'Ansatz 2015 €': 'Betrag'})\n",
    "del plan2015['Ansatz 2014 in €']\n",
    "plan2015['Jahr'] = 2015\n",
    "plan2015['BetragTyp'] = 'Soll'"
   ]
  },
  {
   "cell_type": "code",
   "execution_count": 13,
   "metadata": {},
   "outputs": [],
   "source": [
    "plan2016 = plan2017.rename(columns={'Ansatz 2016 in €': 'Betrag'}).copy()\n",
    "del plan2016['Ansatz 2017 in €']\n",
    "plan2016['Jahr'] = 2016\n",
    "plan2016['BetragTyp'] = 'Soll'"
   ]
  },
  {
   "cell_type": "code",
   "execution_count": 14,
   "metadata": {},
   "outputs": [],
   "source": [
    "plan2017 = plan2017.rename(columns={'Ansatz 2017 in €': 'Betrag'}).copy()\n",
    "del plan2017['Ansatz 2016 in €']\n",
    "plan2017['Jahr'] = 2017\n",
    "plan2017['BetragTyp'] = 'Soll'"
   ]
  },
  {
   "cell_type": "code",
   "execution_count": 15,
   "metadata": {},
   "outputs": [],
   "source": [
    "plan2018 = plan2019.rename(columns={'Ansatz 2018 in €': 'Betrag'}).copy()\n",
    "del plan2018['Ansatz 2019 in €']\n",
    "plan2018['Jahr'] = 2018\n",
    "plan2018['BetragTyp'] = 'Soll'"
   ]
  },
  {
   "cell_type": "code",
   "execution_count": 16,
   "metadata": {},
   "outputs": [],
   "source": [
    "plan2019 = plan2019.rename(columns={'Ansatz 2019 in €': 'Betrag'})\n",
    "del plan2019['Ansatz 2018 in €']\n",
    "plan2019['Jahr'] = 2019\n",
    "plan2019['BetragTyp'] = 'Soll'"
   ]
  },
  {
   "cell_type": "code",
   "execution_count": 17,
   "metadata": {},
   "outputs": [],
   "source": [
    "all_years = pd.concat([ist2015, ist2016, plan2014, plan2015, plan2016, plan2017, plan2018, plan2019])"
   ]
  },
  {
   "cell_type": "code",
   "execution_count": 18,
   "metadata": {},
   "outputs": [],
   "source": [
    "liste = {'Einnahmetitel': 'Einnahmen', 'E': 'Einnahmen', 'Ausgabetitel': 'Ausgaben', 'A': 'Ausgaben'}"
   ]
  },
  {
   "cell_type": "code",
   "execution_count": 19,
   "metadata": {},
   "outputs": [],
   "source": [
    "teil = all_years['Titelart']"
   ]
  },
  {
   "cell_type": "code",
   "execution_count": 20,
   "metadata": {},
   "outputs": [],
   "source": [
    "all_years['Titelart'] = [liste[i] for i in teil.values]"
   ]
  },
  {
   "cell_type": "code",
   "execution_count": 21,
   "metadata": {},
   "outputs": [],
   "source": [
    "all_years_not_bezirke = all_years[all_years['Typ'].isin([1,2])].copy()"
   ]
  },
  {
   "cell_type": "code",
   "execution_count": 22,
   "metadata": {},
   "outputs": [],
   "source": [
    "del all_years_not_bezirke['Bereich']\n",
    "del all_years_not_bezirke['Bereichsbezeichnung']"
   ]
  },
  {
   "cell_type": "code",
   "execution_count": 23,
   "metadata": {},
   "outputs": [],
   "source": [
    "all_years_bezirke = all_years[all_years['Typ'] == 3].copy()"
   ]
  },
  {
   "cell_type": "code",
   "execution_count": 24,
   "metadata": {},
   "outputs": [],
   "source": [
    "del all_years_bezirke['Typ']\n",
    "del all_years_bezirke['Bezeichnung']"
   ]
  },
  {
   "cell_type": "code",
   "execution_count": 25,
   "metadata": {},
   "outputs": [],
   "source": [
    "all_years_bezirke = all_years_bezirke.rename(columns={'Bereich': 'Typ', 'Bereichsbezeichnung': 'Bezeichnung'})"
   ]
  },
  {
   "cell_type": "code",
   "execution_count": 26,
   "metadata": {},
   "outputs": [],
   "source": [
    "all_years = pd.concat([all_years_bezirke, all_years_not_bezirke])\n",
    "all_years.to_csv('berlin-gesamt.csv', encoding='utf-8', index=False)"
   ]
  },
  {
   "cell_type": "code",
   "execution_count": null,
   "metadata": {},
   "outputs": [],
   "source": []
  }
 ],
 "metadata": {
  "kernelspec": {
   "display_name": "Python 3",
   "language": "python",
   "name": "python3"
  },
  "language_info": {
   "codemirror_mode": {
    "name": "ipython",
    "version": 3
   },
   "file_extension": ".py",
   "mimetype": "text/x-python",
   "name": "python",
   "nbconvert_exporter": "python",
   "pygments_lexer": "ipython3",
   "version": "3.6.3"
  }
 },
 "nbformat": 4,
 "nbformat_minor": 2
}
