{
 "cells": [
  {
   "cell_type": "code",
   "execution_count": 1,
   "metadata": {},
   "outputs": [],
   "source": [
    "import pandas as pd"
   ]
  },
  {
   "cell_type": "code",
   "execution_count": 69,
   "metadata": {},
   "outputs": [],
   "source": [
    "import os"
   ]
  },
  {
   "cell_type": "code",
   "execution_count": 34,
   "metadata": {},
   "outputs": [
    {
     "name": "stdout",
     "output_type": "stream",
     "text": [
      "2015_Ist.csv  berlin-gesamt.csv  hpl1617.csv  Merge-Berlin.ipynb\n",
      "2016_Ist.csv  hpl1415.csv        hpl1819.csv\n"
     ]
    }
   ],
   "source": [
    "ls"
   ]
  },
  {
   "cell_type": "code",
   "execution_count": 72,
   "metadata": {},
   "outputs": [],
   "source": [
    "ist2015 = pd.read_csv('2015_Ist.csv', thousands='.', decimal=',')\n",
    "ist2016 = pd.read_csv('2016_Ist.csv', thousands='.', decimal=',')\n",
    "plan2015 = pd.read_csv('hpl1415.csv', thousands='.', decimal=',')\n",
    "plan2017= pd.read_csv('hpl1617.csv', thousands='.', decimal=',')\n",
    "plan2019 = pd.read_csv('hpl1819.csv', thousands='.', decimal=',')"
   ]
  },
  {
   "cell_type": "code",
   "execution_count": 73,
   "metadata": {},
   "outputs": [],
   "source": [
    "del ist2015['Ansatz']\n",
    "ist2015['Jahr'] = 2015\n",
    "ist2015['BetragTyp'] = 'Ist'\n",
    "ist2015 = ist2015.rename(columns = {'Ist': 'Betrag'})"
   ]
  },
  {
   "cell_type": "code",
   "execution_count": 74,
   "metadata": {},
   "outputs": [],
   "source": [
    "del ist2016['Ansatz']\n",
    "ist2016['Jahr'] = 2016\n",
    "ist2016['BetragTyp'] = 'Ist'\n",
    "ist2016 = ist2016.rename(columns = {'Ist': 'Betrag'})"
   ]
  },
  {
   "cell_type": "code",
   "execution_count": 75,
   "metadata": {},
   "outputs": [],
   "source": [
    "plan2014 = plan2015.rename(columns={'Ansatz 2014 in €': 'Betrag'}).copy()\n",
    "del plan2014['Ansatz 2015 €']\n",
    "plan2014['Jahr'] = 2014\n",
    "plan2014['BetragTyp'] = 'Plan'"
   ]
  },
  {
   "cell_type": "code",
   "execution_count": 76,
   "metadata": {},
   "outputs": [],
   "source": [
    "plan2015 = plan2015.rename(columns={'Ansatz 2015 €': 'Betrag'})\n",
    "del plan2015['Ansatz 2014 in €']\n",
    "plan2015['Jahr'] = 2015\n",
    "plan2015['BetragTyp'] = 'Plan'"
   ]
  },
  {
   "cell_type": "code",
   "execution_count": 77,
   "metadata": {},
   "outputs": [],
   "source": [
    "plan2016 = plan2017.rename(columns={'Ansatz 2016 in €': 'Betrag'}).copy()\n",
    "del plan2016['Ansatz 2017 in €']\n",
    "plan2016['Jahr'] = 2016\n",
    "plan2016['BetragTyp'] = 'Plan'"
   ]
  },
  {
   "cell_type": "code",
   "execution_count": 78,
   "metadata": {},
   "outputs": [],
   "source": [
    "plan2017 = plan2017.rename(columns={'Ansatz 2017 in €': 'Betrag'}).copy()\n",
    "del plan2017['Ansatz 2016 in €']\n",
    "plan2017['Jahr'] = 2017\n",
    "plan2017['BetragTyp'] = 'Plan'"
   ]
  },
  {
   "cell_type": "code",
   "execution_count": 79,
   "metadata": {},
   "outputs": [],
   "source": [
    "plan2018 = plan2019.rename(columns={'Ansatz 2018 in €': 'Betrag'}).copy()\n",
    "del plan2018['Ansatz 2019 in €']\n",
    "plan2018['Jahr'] = 2018\n",
    "plan2018['BetragTyp'] = 'Plan'"
   ]
  },
  {
   "cell_type": "code",
   "execution_count": 80,
   "metadata": {},
   "outputs": [],
   "source": [
    "plan2019 = plan2019.rename(columns={'Ansatz 2019 in €': 'Betrag'})\n",
    "del plan2019['Ansatz 2018 in €']\n",
    "plan2019['Jahr'] = 2019\n",
    "plan2019['BetragTyp'] = 'Plan'"
   ]
  },
  {
   "cell_type": "code",
   "execution_count": 81,
   "metadata": {},
   "outputs": [],
   "source": [
    "all_years = pd.concat([ist2015, ist2016, plan2014, plan2015, plan2016, plan2017, plan2018, plan2019])"
   ]
  },
  {
   "cell_type": "code",
   "execution_count": 82,
   "metadata": {},
   "outputs": [],
   "source": [
    "liste = {'Einnahmetitel': 'Einnahmen', 'E': 'Einnahmen', 'Ausgabetitel': 'Ausgaben', 'A': 'Ausgaben'}"
   ]
  },
  {
   "cell_type": "code",
   "execution_count": 83,
   "metadata": {},
   "outputs": [],
   "source": [
    "teil = all_years['Titelart']"
   ]
  },
  {
   "cell_type": "code",
   "execution_count": 84,
   "metadata": {},
   "outputs": [],
   "source": [
    "all_years['Titelart'] = [liste[i] for i in teil.values]"
   ]
  },
  {
   "cell_type": "code",
   "execution_count": 85,
   "metadata": {},
   "outputs": [
    {
     "data": {
      "text/plain": [
       "Typ                            int64\n",
       "Bezeichnung                   object\n",
       "Bereich                        int64\n",
       "Bereichsbezeichnung           object\n",
       "Einzelplan                     int64\n",
       "Einzelplanbezeichnung         object\n",
       "Kapitel                        int64\n",
       "Kapitelbezeichnung            object\n",
       "Hauptgruppe                    int64\n",
       "Hauptgruppenbezeichnung       object\n",
       "Obergruppe                     int64\n",
       "Obergruppenbezeichnung        object\n",
       "Gruppe                         int64\n",
       "Gruppenbezeichnung            object\n",
       "Hauptfunktion                  int64\n",
       "Hauptfunktionsbezeichnung     object\n",
       "Oberfunktion                   int64\n",
       "Oberfunktionsbezeichnung      object\n",
       "Funktion                       int64\n",
       "Funktionsbezeichnung          object\n",
       "Titelart                      object\n",
       "Titel                          int64\n",
       "Titelbezeichnung              object\n",
       "Betrag                       float64\n",
       "Jahr                           int64\n",
       "BetragTyp                     object\n",
       "dtype: object"
      ]
     },
     "execution_count": 85,
     "metadata": {},
     "output_type": "execute_result"
    }
   ],
   "source": [
    "all_years.dtypes"
   ]
  },
  {
   "cell_type": "code",
   "execution_count": 86,
   "metadata": {},
   "outputs": [],
   "source": [
    "all_years.to_csv('berlin-gesamt.csv', encoding='utf-8')"
   ]
  }
 ],
 "metadata": {
  "kernelspec": {
   "display_name": "Python 3",
   "language": "python",
   "name": "python3"
  },
  "language_info": {
   "codemirror_mode": {
    "name": "ipython",
    "version": 3
   },
   "file_extension": ".py",
   "mimetype": "text/x-python",
   "name": "python",
   "nbconvert_exporter": "python",
   "pygments_lexer": "ipython3",
   "version": "3.6.3"
  }
 },
 "nbformat": 4,
 "nbformat_minor": 2
}
