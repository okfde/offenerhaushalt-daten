{
 "cells": [
  {
   "cell_type": "code",
   "execution_count": 72,
   "metadata": {
    "collapsed": true
   },
   "outputs": [],
   "source": [
    "import pandas as pd"
   ]
  },
  {
   "cell_type": "code",
   "execution_count": 73,
   "metadata": {},
   "outputs": [],
   "source": [
    "df_moers = pd.read_csv('C:\\\\Users\\\\Michael\\\\Documents\\\\OKFN\\\\Open NRW\\\\python\\\\HH endgültig 2018.csv',  sep=';', encoding='iso8859-1') "
   ]
  },
  {
   "cell_type": "code",
   "execution_count": 74,
   "metadata": {
    "collapsed": true
   },
   "outputs": [],
   "source": [
    "dt = {\n",
    "1 : 'Erträge',\n",
    "2 : 'Aufwendungen',\n",
    "3 : 'Finanzergebnis',\n",
    "4 : 'Erträge (interne Leistungsbeziehungen)',\n",
    "5 : 'Aufwendungen (interne Leistungsbeziehungen)',\n",
    "0 : ''\n",
    "}"
   ]
  },
  {
   "cell_type": "code",
   "execution_count": 75,
   "metadata": {
    "collapsed": true
   },
   "outputs": [],
   "source": [
    "new_moers = df_moers.iloc[1:,:8]"
   ]
  },
  {
   "cell_type": "code",
   "execution_count": 76,
   "metadata": {
    "collapsed": true
   },
   "outputs": [],
   "source": [
    "# Create a copy of moers dataframe without the Ist and Plan columns\n",
    "moers_plan2018 = new_moers.copy()"
   ]
  },
  {
   "cell_type": "code",
   "execution_count": 77,
   "metadata": {
    "collapsed": true
   },
   "outputs": [],
   "source": [
    "# Add column Betrag with Ist 2015 values\n",
    "moers_plan2018['Betrag'] = df_moers['Plan 2018']"
   ]
  },
  {
   "cell_type": "code",
   "execution_count": 78,
   "metadata": {
    "collapsed": true
   },
   "outputs": [],
   "source": [
    "# Create new column with Betrag Type information\n",
    "moers_plan2018['Betrag_Typ'] = 'Plan'"
   ]
  },
  {
   "cell_type": "code",
   "execution_count": 79,
   "metadata": {
    "collapsed": true
   },
   "outputs": [],
   "source": [
    "moers_plan2018['Jahr'] = 2018"
   ]
  },
  {
   "cell_type": "code",
   "execution_count": 80,
   "metadata": {
    "collapsed": true
   },
   "outputs": [],
   "source": [
    "# Create a copy of moers dataframe without the Ist and Plan columns\n",
    "moers_plan2019 = new_moers.copy()"
   ]
  },
  {
   "cell_type": "code",
   "execution_count": 81,
   "metadata": {
    "collapsed": true
   },
   "outputs": [],
   "source": [
    "# Add column Betrag with Ist 2015 values\n",
    "moers_plan2019['Betrag'] = df_moers['Plan 2018']\n",
    "# Create new column with Betrag Type information\n",
    "moers_plan2019['Betrag_Typ'] = 'Plan'\n",
    "moers_plan2019['Jahr'] = 2019"
   ]
  },
  {
   "cell_type": "code",
   "execution_count": 82,
   "metadata": {
    "collapsed": true
   },
   "outputs": [],
   "source": [
    "# Create a copy of moers dataframe without the Ist and Plan columns\n",
    "moers_plan2020 = new_moers.copy()\n",
    "# Add column Betrag with Ist 2015 values\n",
    "moers_plan2020['Betrag'] = df_moers['Plan 2020']\n",
    "# Create new column with Betrag Type information\n",
    "moers_plan2020['Betrag_Typ'] = 'Plan'\n",
    "moers_plan2020['Jahr'] = 2020"
   ]
  },
  {
   "cell_type": "code",
   "execution_count": 83,
   "metadata": {
    "collapsed": true
   },
   "outputs": [],
   "source": [
    "# Create a copy of moers dataframe without the Ist and Plan columns\n",
    "moers_plan2021 = new_moers.copy()\n",
    "# Add column Betrag with Ist 2015 values\n",
    "moers_plan2021['Betrag'] = df_moers['Plan 2021']\n",
    "# Create new column with Betrag Type information\n",
    "moers_plan2021['Betrag_Typ'] = 'Plan'\n",
    "moers_plan2021['Jahr'] = 2021"
   ]
  },
  {
   "cell_type": "code",
   "execution_count": 84,
   "metadata": {
    "collapsed": true
   },
   "outputs": [],
   "source": [
    "new_moers = pd.concat([moers_plan2018, moers_plan2019, moers_plan2020, moers_plan2021])"
   ]
  },
  {
   "cell_type": "code",
   "execution_count": 85,
   "metadata": {
    "collapsed": true
   },
   "outputs": [],
   "source": [
    "#Deleting first Column\n",
    "new_moers = new_moers.iloc[2:,:13]\n"
   ]
  },
  {
   "cell_type": "code",
   "execution_count": 86,
   "metadata": {
    "collapsed": true
   },
   "outputs": [],
   "source": [
    "da = new_moers['Art']"
   ]
  },
  {
   "cell_type": "code",
   "execution_count": 87,
   "metadata": {
    "collapsed": true
   },
   "outputs": [],
   "source": [
    "da = da.fillna(0)"
   ]
  },
  {
   "cell_type": "code",
   "execution_count": 88,
   "metadata": {
    "collapsed": true
   },
   "outputs": [],
   "source": [
    "new_moers['HH Art'] = [dt[i] for i in da.values]\n"
   ]
  },
  {
   "cell_type": "code",
   "execution_count": 89,
   "metadata": {
    "collapsed": true
   },
   "outputs": [],
   "source": [
    "new_moers = new_moers[new_moers['Art']<3]\n"
   ]
  },
  {
   "cell_type": "code",
   "execution_count": 90,
   "metadata": {
    "collapsed": true
   },
   "outputs": [],
   "source": [
    "na = new_moers['Kostenart']"
   ]
  },
  {
   "cell_type": "code",
   "execution_count": 91,
   "metadata": {
    "collapsed": true
   },
   "outputs": [],
   "source": [
    "na = na.fillna('1000')"
   ]
  },
  {
   "cell_type": "code",
   "execution_count": 92,
   "metadata": {
    "collapsed": true
   },
   "outputs": [],
   "source": [
    "no = new_moers['Kostenart Beschreibung']"
   ]
  },
  {
   "cell_type": "code",
   "execution_count": 93,
   "metadata": {
    "collapsed": true
   },
   "outputs": [],
   "source": [
    "no = no.fillna('keine Details vorhanden')"
   ]
  },
  {
   "cell_type": "code",
   "execution_count": 94,
   "metadata": {
    "collapsed": true
   },
   "outputs": [],
   "source": [
    "new_moers['Kostenart Beschreibung'] = no"
   ]
  },
  {
   "cell_type": "code",
   "execution_count": 95,
   "metadata": {
    "collapsed": true
   },
   "outputs": [],
   "source": [
    "new_moers['Kostenart'] = na"
   ]
  },
  {
   "cell_type": "code",
   "execution_count": 96,
   "metadata": {
    "collapsed": true
   },
   "outputs": [],
   "source": [
    "absolute = new_moers['Betrag']"
   ]
  },
  {
   "cell_type": "code",
   "execution_count": 97,
   "metadata": {
    "collapsed": true
   },
   "outputs": [],
   "source": [
    "new_moers.Profitcenter = new_moers.Profitcenter.astype(str)"
   ]
  },
  {
   "cell_type": "code",
   "execution_count": 103,
   "metadata": {
    "collapsed": true
   },
   "outputs": [],
   "source": [
    "new_moers['Betrag'] = new_moers['Betrag'].str.replace('.','')"
   ]
  },
  {
   "cell_type": "code",
   "execution_count": 105,
   "metadata": {
    "collapsed": true
   },
   "outputs": [],
   "source": [
    "new_moers['Betrag'] = new_moers['Betrag'].str.replace(',','.')"
   ]
  },
  {
   "cell_type": "code",
   "execution_count": 112,
   "metadata": {},
   "outputs": [],
   "source": [
    "new_moers['Betrag'] = new_moers['Betrag'].astype(float)"
   ]
  },
  {
   "cell_type": "code",
   "execution_count": 113,
   "metadata": {},
   "outputs": [],
   "source": [
    "new_moers['Betrag'] = pd.to_numeric(new_moers['Betrag']) "
   ]
  },
  {
   "cell_type": "code",
   "execution_count": 114,
   "metadata": {
    "collapsed": true
   },
   "outputs": [],
   "source": [
    "#new_moers['Betrag'] = abs(new_moers['Betrag'])"
   ]
  },
  {
   "cell_type": "code",
   "execution_count": 115,
   "metadata": {
    "collapsed": true
   },
   "outputs": [],
   "source": [
    "new_moers['Betrag'] = new_moers.apply(lambda row: -1*(row[\"Betrag\"]) if row[\"HH Art\"] == \"Erträge\" else row[\"Betrag\"], axis=1)"
   ]
  },
  {
   "cell_type": "code",
   "execution_count": 116,
   "metadata": {
    "collapsed": true
   },
   "outputs": [],
   "source": [
    "codelist = {\n",
    "10101 : \"Fachbereich 1: Büro des Bürgermeisters\", \n",
    "10102 : \"Fachbereich 1: Büro des Bürgermeisters\",\n",
    "109 : \"Fachbereich 1: Büro des Bürgermeisters\",\n",
    "150101 : \"Fachbereich 1: Büro des Bürgermeisters\",\n",
    "104 : \"Fachbereich 2: Finanzen\",\n",
    "108 : \"Fachbereich 2: Finanzen\",  \n",
    "701 : \"Fachbereich 2: Finanzen\",\n",
    "150204 : \"Fachbereich 2: Finanzen\",\n",
    "1601 : \"Fachbereich 2: Finanzen\",\n",
    "1602 : \"Fachbereich 2: Finanzen\",\n",
    "402 : \"Fachbereich 2: Finanzen\",\n",
    "403 : \"Fachbereich 2: Finanzen\",\n",
    "107 : \"Fachbereich 3: Interner Service\",\n",
    "10201 : \"Fachbereich 3: Interner Service\",\n",
    "10202 : \"Fachbereich 3: Interner Service\",\n",
    "10203 : \"Fachbereich 3: Interner Service\",\n",
    "10301 : \"Fachbereich 3: Interner Service\",\n",
    "110 : \"Fachbereich 3: Interner Service\",\n",
    "20101 : \"Fachbereich 3: Interner Service\",    \n",
    "20102 : \"Fachbereich 4: Ordnung und Bürgerservice\",\n",
    "20201 : \"Fachbereich 4: Ordnung und Bürgerservice\",\n",
    "20202 : \"Fachbereich 4: Ordnung und Bürgerservice\",\n",
    "20204 : \"Fachbereich 4: Ordnung und Bürgerservice\",\n",
    "20205 : \"Fachbereich 4: Ordnung und Bürgerservice\",\n",
    "20206 : \"Fachbereich 4: Ordnung und Bürgerservice\",\n",
    "150201 : \"Fachbereich 4: Ordnung und Bürgerservice\",\n",
    "203 : \"Fachbereich 5: Feuerwehr\",\n",
    "204 : \"Fachbereich 5: Feuerwehr\",    \n",
    "901 : \"Fachbereich 6: Stadtplanung und Grünflächen\",\n",
    "906 : \"Fachbereich 6: Stadtplanung und Grünflächen\",\n",
    "1001 : \"Fachbereich 6: Stadtplanung und Grünflächen\",\n",
    "1003 : \"Fachbereich 6: Stadtplanung und Grünflächen\",\n",
    "1301 : \"Fachbereich 6: Stadtplanung und Grünflächen\",\n",
    "1401 : \"Fachbereich 6: Stadtplanung und Grünflächen\",\n",
    "502 : \"Fachbereich 7: Soziales, Senioren und Wohnen\",\n",
    "503 : \"Fachbereich 7: Soziales, Senioren und Wohnen\",\n",
    "504 : \"Fachbereich 7: Soziales, Senioren und Wohnen\",\n",
    "505 : \"Fachbereich 7: Soziales, Senioren und Wohnen\",\n",
    "506 : \"Fachbereich 7: Soziales, Senioren und Wohnen\",\n",
    "508 : \"Fachbereich 7: Soziales, Senioren und Wohnen\",\n",
    "509 : \"Fachbereich 7: Soziales, Senioren und Wohnen\",\n",
    "510 : \"Fachbereich 7: Soziales, Senioren und Wohnen\", \n",
    "511 : \"Fachbereich 7: Soziales, Senioren und Wohnen\",\n",
    "512 : \"Fachbereich 7: Soziales, Senioren und Wohnen\",\n",
    "513 : \"Fachbereich 7: Soziales, Senioren und Wohnen\",\n",
    "1002 : \"Fachbereich 7: Soziales, Senioren und Wohnen\",\n",
    "20203 : \"Fachbereich 8: Soziales, Senioren und Wohnen\", \n",
    "902 : \"Fachbereich 8: Soziales, Senioren und Wohnen\",\n",
    "903 : \"Fachbereich 8: Soziales, Senioren und Wohnen\",\n",
    "904 : \"Fachbereich 8: Soziales, Senioren und Wohnen\",\n",
    "905 : \"Fachbereich 8: Soziales, Senioren und Wohnen\",\n",
    "1101 : \"Fachbereich 8: Soziales, Senioren und Wohnen\",\n",
    "120101 : \"Fachbereich 8: Soziales, Senioren und Wohnen\",\n",
    "120102 : \"Fachbereich 8: Soziales, Senioren und Wohnen\",\n",
    "120103 : \"Fachbereich 8: Soziales, Senioren und Wohnen\",\n",
    "10302  : \"Fachbereich 9: Schule und Sport\",\n",
    "301  : \"Fachbereich 9: Schule und Sport\",\n",
    "302  : \"Fachbereich 9: Schule und Sport\",\n",
    "303  : \"Fachbereich 9: Schule und Sport\",\n",
    "304  : \"Fachbereich 9: Schule und Sport\",\n",
    "305  : \"Fachbereich 9: Schule und Sport\",\n",
    "306  : \"Fachbereich 9: Schule und Sport\",\n",
    "307  : \"Fachbereich 9: Schule und Sport\",\n",
    "308  : \"Fachbereich 9: Schule und Sport\",\n",
    "801  : \"Fachbereich 9: Schule und Sport\",\n",
    "802  : \"Fachbereich 9: Schule und Sport\",\n",
    "601  : \"Fachbereich 10: Jugend\",\n",
    "602  : \"Fachbereich 10: Jugend\",\n",
    "60301  : \"Fachbereich 10: Jugend\",\n",
    "60302  : \"Fachbereich 10: Jugend\",\n",
    "105  : \"Kein Fachbereich\",\n",
    "106  : \"Kein Fachbereich\",\n",
    "401  : \"Kein Fachbereich\",\n",
    "150102  : \"Kein Fachbereich\",\n",
    "50701: \"Sonstiges\",\n",
    "50702:   \"Sonstiges\",  \n",
    "}"
   ]
  },
  {
   "cell_type": "code",
   "execution_count": 117,
   "metadata": {
    "collapsed": true
   },
   "outputs": [],
   "source": [
    "new_moers['Fachbereich'] = ''"
   ]
  },
  {
   "cell_type": "code",
   "execution_count": 118,
   "metadata": {
    "collapsed": true
   },
   "outputs": [],
   "source": [
    "new_moers['Profitcenter'] = pd.to_numeric(new_moers['Profitcenter']) "
   ]
  },
  {
   "cell_type": "code",
   "execution_count": 119,
   "metadata": {
    "collapsed": true
   },
   "outputs": [],
   "source": [
    "dat = new_moers['Profitcenter']\n"
   ]
  },
  {
   "cell_type": "code",
   "execution_count": 120,
   "metadata": {
    "collapsed": true
   },
   "outputs": [],
   "source": [
    "dat = dat.fillna(0)"
   ]
  },
  {
   "cell_type": "code",
   "execution_count": 121,
   "metadata": {
    "collapsed": true
   },
   "outputs": [],
   "source": [
    "new_moers['Fachbereich'] = [codelist.get(int(i), 'Fachbereich 9: Schule und Sport') for i in dat.values]\n"
   ]
  },
  {
   "cell_type": "code",
   "execution_count": 122,
   "metadata": {},
   "outputs": [
    {
     "data": {
      "text/plain": [
       "Kontengruppe-Nummer          object\n",
       "Kontengruppe                 object\n",
       "Profitcenter                float64\n",
       "Profitcenter-Bezeichnung     object\n",
       "Art                         float64\n",
       "PSP-Element                  object\n",
       "Kostenart                    object\n",
       "Kostenart Beschreibung       object\n",
       "Betrag                      float64\n",
       "Betrag_Typ                   object\n",
       "Jahr                          int64\n",
       "HH Art                       object\n",
       "Fachbereich                  object\n",
       "dtype: object"
      ]
     },
     "execution_count": 122,
     "metadata": {},
     "output_type": "execute_result"
    }
   ],
   "source": [
    "new_moers.dtypes"
   ]
  },
  {
   "cell_type": "code",
   "execution_count": 123,
   "metadata": {},
   "outputs": [
    {
     "data": {
      "text/html": [
       "<div>\n",
       "<style>\n",
       "    .dataframe thead tr:only-child th {\n",
       "        text-align: right;\n",
       "    }\n",
       "\n",
       "    .dataframe thead th {\n",
       "        text-align: left;\n",
       "    }\n",
       "\n",
       "    .dataframe tbody tr th {\n",
       "        vertical-align: top;\n",
       "    }\n",
       "</style>\n",
       "<table border=\"1\" class=\"dataframe\">\n",
       "  <thead>\n",
       "    <tr style=\"text-align: right;\">\n",
       "      <th></th>\n",
       "      <th>Kontengruppe-Nummer</th>\n",
       "      <th>Kontengruppe</th>\n",
       "      <th>Profitcenter</th>\n",
       "      <th>Profitcenter-Bezeichnung</th>\n",
       "      <th>Art</th>\n",
       "      <th>PSP-Element</th>\n",
       "      <th>Kostenart</th>\n",
       "      <th>Kostenart Beschreibung</th>\n",
       "      <th>Betrag</th>\n",
       "      <th>Betrag_Typ</th>\n",
       "      <th>Jahr</th>\n",
       "      <th>HH Art</th>\n",
       "      <th>Fachbereich</th>\n",
       "    </tr>\n",
       "  </thead>\n",
       "  <tbody>\n",
       "  </tbody>\n",
       "</table>\n",
       "</div>"
      ],
      "text/plain": [
       "Empty DataFrame\n",
       "Columns: [Kontengruppe-Nummer, Kontengruppe, Profitcenter, Profitcenter-Bezeichnung, Art, PSP-Element, Kostenart, Kostenart Beschreibung, Betrag, Betrag_Typ, Jahr, HH Art, Fachbereich]\n",
       "Index: []"
      ]
     },
     "execution_count": 123,
     "metadata": {},
     "output_type": "execute_result"
    }
   ],
   "source": [
    "new_moers[new_moers['Fachbereich'].isnull()]"
   ]
  },
  {
   "cell_type": "code",
   "execution_count": 124,
   "metadata": {
    "collapsed": true
   },
   "outputs": [],
   "source": [
    "#for index, row in new_moers.iterrows():\n",
    "#    if row['Fachbereich'] is None: \n",
    "#        new_moers.ix[index, 'Fachbereich'] = 'Fachbereich 9: Schule und Sport'"
   ]
  },
  {
   "cell_type": "code",
   "execution_count": 125,
   "metadata": {},
   "outputs": [
    {
     "data": {
      "text/html": [
       "<div>\n",
       "<style>\n",
       "    .dataframe thead tr:only-child th {\n",
       "        text-align: right;\n",
       "    }\n",
       "\n",
       "    .dataframe thead th {\n",
       "        text-align: left;\n",
       "    }\n",
       "\n",
       "    .dataframe tbody tr th {\n",
       "        vertical-align: top;\n",
       "    }\n",
       "</style>\n",
       "<table border=\"1\" class=\"dataframe\">\n",
       "  <thead>\n",
       "    <tr style=\"text-align: right;\">\n",
       "      <th></th>\n",
       "      <th>Kontengruppe-Nummer</th>\n",
       "      <th>Kontengruppe</th>\n",
       "      <th>Profitcenter</th>\n",
       "      <th>Profitcenter-Bezeichnung</th>\n",
       "      <th>Art</th>\n",
       "      <th>PSP-Element</th>\n",
       "      <th>Kostenart</th>\n",
       "      <th>Kostenart Beschreibung</th>\n",
       "      <th>Betrag</th>\n",
       "      <th>Betrag_Typ</th>\n",
       "      <th>Jahr</th>\n",
       "      <th>HH Art</th>\n",
       "      <th>Fachbereich</th>\n",
       "    </tr>\n",
       "  </thead>\n",
       "  <tbody>\n",
       "  </tbody>\n",
       "</table>\n",
       "</div>"
      ],
      "text/plain": [
       "Empty DataFrame\n",
       "Columns: [Kontengruppe-Nummer, Kontengruppe, Profitcenter, Profitcenter-Bezeichnung, Art, PSP-Element, Kostenart, Kostenart Beschreibung, Betrag, Betrag_Typ, Jahr, HH Art, Fachbereich]\n",
       "Index: []"
      ]
     },
     "execution_count": 125,
     "metadata": {},
     "output_type": "execute_result"
    }
   ],
   "source": [
    "new_moers[new_moers['Fachbereich'] == 'test']"
   ]
  },
  {
   "cell_type": "code",
   "execution_count": 126,
   "metadata": {
    "collapsed": true
   },
   "outputs": [],
   "source": [
    "ebene = {\n",
    "\"Fachbereich 1: Büro des Bürgermeisters\": \"Bürgermeister Christoph Fleischhauer\", \n",
    "\"Fachbereich 2: Finanzen\": \"Dezernat I - Erster Beigeordneter und Stadtkämmerer Wolfgang Thoenes\",\n",
    "\"Fachbereich 3: Interner Service\": \"Dezernat II - Beigeordnete Kornelia zum Kolk\",\n",
    "\"Fachbereich 4: Ordnung und Bürgerservice\": \"Dezernat II - Beigeordnete Kornelia zum Kolk\",\n",
    "\"Fachbereich 7: Soziales, Senioren und Wohnen\": \"Dezernat II - Beigeordnete Kornelia zum Kolk\",\n",
    "\"Fachbereich 9: Schule und Sport\": \"Dezernat II - Beigeordnete Kornelia zum Kolk\",\n",
    "\"Fachbereich 5: Feuerwehr\": \"Dezernat III - Technischer Beigeordneter Thorsten Kamp\", \n",
    "\"Fachbereich 6: Stadtplanung und Grünflächen\": \"Dezernat III - Technischer Beigeordneter Thorsten Kamp\",\n",
    "\"Fachbereich 8: Soziales, Senioren und Wohnen\": \"Dezernat III - Technischer Beigeordneter Thorsten Kamp\",\n",
    "\"Fachbereich 10: Jugend\": \"Dezernat II - Beigeordnete Kornelia zum Kolk\",\n",
    "\"Sonstiges\": \"Dezernat II - Beigeordnete Kornelia zum Kolk\",\n",
    "\"Kein Fachbereich\": \"Weitere Organisationseinheiten\",\n",
    "}"
   ]
  },
  {
   "cell_type": "code",
   "execution_count": 127,
   "metadata": {
    "collapsed": true
   },
   "outputs": [],
   "source": [
    "teil = new_moers['Fachbereich']"
   ]
  },
  {
   "cell_type": "code",
   "execution_count": 128,
   "metadata": {
    "collapsed": true
   },
   "outputs": [],
   "source": [
    "teil = teil.fillna(0)"
   ]
  },
  {
   "cell_type": "code",
   "execution_count": 129,
   "metadata": {
    "collapsed": true
   },
   "outputs": [],
   "source": [
    "new_moers['Zuständige'] = ''"
   ]
  },
  {
   "cell_type": "code",
   "execution_count": 130,
   "metadata": {
    "collapsed": true
   },
   "outputs": [],
   "source": [
    "new_moers['Zuständige'] = [ebene[i] for i in teil.values]"
   ]
  },
  {
   "cell_type": "code",
   "execution_count": 131,
   "metadata": {
    "collapsed": true
   },
   "outputs": [],
   "source": [
    "liste2 = {\n",
    "\"1\": \"Innere Verwaltung\",\n",
    "\"2\": \"Sicherheit und Ordnung\",\n",
    "\"3\": \"Schulträgeraufgaben\",\n",
    "\"4\": \"Kultur und Wissenschaft\",\n",
    "\"5\": \"Soziale Leistungen\",\n",
    "\"6\": \"Kinder-, Jugend- und Familienhilfe\",\n",
    "\"7\": \"Gesundheitsdienste\",\n",
    "\"8\": \"Sportförderung \",\n",
    "\"9\": \"Planung / Entwicklung, Geoinformation\",\n",
    "\"10\": \"Bauen und Wohnen\",\n",
    "\"11\": \"Ver- und Entsorgung\",\n",
    "\"12\": \"Verkehrsflächen und –anlagen\",\n",
    "\"13\": \"Natur- und Landschaftspflege\",\n",
    "\"14\": \"Umweltschutz\",\n",
    "\"15\": \"Wirtschaft und Tourismus\",\n",
    "\"16\": \"Allgemeine Finanzwirtschaft\",\n",
    "}"
   ]
  },
  {
   "cell_type": "code",
   "execution_count": 132,
   "metadata": {
    "collapsed": true
   },
   "outputs": [],
   "source": [
    "def zuordnung (schluessel):\n",
    "    laenge = len(schluessel)\n",
    "    if laenge == 3 or laenge == 5: \n",
    "        index = schluessel[0]\n",
    "    else: \n",
    "        index = schluessel[0:2]\n",
    "    return liste2[index]"
   ]
  },
  {
   "cell_type": "code",
   "execution_count": 133,
   "metadata": {},
   "outputs": [
    {
     "data": {
      "text/plain": [
       "Kontengruppe-Nummer          object\n",
       "Kontengruppe                 object\n",
       "Profitcenter                float64\n",
       "Profitcenter-Bezeichnung     object\n",
       "Art                         float64\n",
       "PSP-Element                  object\n",
       "Kostenart                    object\n",
       "Kostenart Beschreibung       object\n",
       "Betrag                      float64\n",
       "Betrag_Typ                   object\n",
       "Jahr                          int64\n",
       "HH Art                       object\n",
       "Fachbereich                  object\n",
       "Zuständige                   object\n",
       "dtype: object"
      ]
     },
     "execution_count": 133,
     "metadata": {},
     "output_type": "execute_result"
    }
   ],
   "source": [
    "new_moers.dtypes"
   ]
  },
  {
   "cell_type": "code",
   "execution_count": 134,
   "metadata": {
    "collapsed": true
   },
   "outputs": [],
   "source": [
    "new_moers.Profitcenter = new_moers.Profitcenter.astype(int)"
   ]
  },
  {
   "cell_type": "code",
   "execution_count": 135,
   "metadata": {
    "collapsed": true
   },
   "outputs": [],
   "source": [
    "new_moers.Profitcenter = new_moers.Profitcenter.astype(str)"
   ]
  },
  {
   "cell_type": "code",
   "execution_count": 136,
   "metadata": {
    "collapsed": true
   },
   "outputs": [],
   "source": [
    "new_moers['Ebene1'] = [zuordnung(profitcenter) for profitcenter in new_moers['Profitcenter']]"
   ]
  },
  {
   "cell_type": "code",
   "execution_count": 137,
   "metadata": {
    "collapsed": true
   },
   "outputs": [],
   "source": [
    "new_moers['Ebene2'] = new_moers['Profitcenter-Bezeichnung']"
   ]
  },
  {
   "cell_type": "code",
   "execution_count": 138,
   "metadata": {
    "collapsed": true
   },
   "outputs": [],
   "source": [
    "new_moers['Ebene3'] = new_moers['Kontengruppe']"
   ]
  },
  {
   "cell_type": "code",
   "execution_count": 139,
   "metadata": {
    "collapsed": true
   },
   "outputs": [],
   "source": [
    "new_moers['Ebene4'] = new_moers['Kostenart Beschreibung']"
   ]
  },
  {
   "cell_type": "code",
   "execution_count": 140,
   "metadata": {
    "collapsed": true
   },
   "outputs": [],
   "source": [
    "del new_moers['PSP-Element']"
   ]
  },
  {
   "cell_type": "code",
   "execution_count": 141,
   "metadata": {
    "collapsed": true
   },
   "outputs": [],
   "source": [
    "teil3 = new_moers['HH Art']"
   ]
  },
  {
   "cell_type": "code",
   "execution_count": 142,
   "metadata": {
    "collapsed": true
   },
   "outputs": [],
   "source": [
    "new_moers.to_csv('C:\\\\Users\\\\Michael\\\\Documents\\\\OKFN\\\\Open NRW\\\\python\\\\Haushalt_py2018.csv', index=False, encoding='utf-8')"
   ]
  },
  {
   "cell_type": "code",
   "execution_count": null,
   "metadata": {
    "collapsed": true
   },
   "outputs": [],
   "source": []
  }
 ],
 "metadata": {
  "kernelspec": {
   "display_name": "Python 2",
   "language": "python",
   "name": "python2"
  },
  "language_info": {
   "codemirror_mode": {
    "name": "ipython",
    "version": 2
   },
   "file_extension": ".py",
   "mimetype": "text/x-python",
   "name": "python",
   "nbconvert_exporter": "python",
   "pygments_lexer": "ipython2",
   "version": "2.7.14"
  }
 },
 "nbformat": 4,
 "nbformat_minor": 2
}
