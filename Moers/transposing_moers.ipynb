{
 "cells": [
  {
   "cell_type": "code",
   "execution_count": 33,
   "metadata": {
    "collapsed": true
   },
   "outputs": [],
   "source": [
    "import pandas as pd"
   ]
  },
  {
   "cell_type": "code",
   "execution_count": 34,
   "metadata": {
    "collapsed": true
   },
   "outputs": [],
   "source": [
    "df_moers = pd.read_csv('C:\\\\Users\\\\Michael\\\\Documents\\\\OKFN\\\\Open NRW\\\\python\\\\Haushalt.csv',  sep=';', encoding='iso8859-1') "
   ]
  },
  {
   "cell_type": "code",
   "execution_count": 35,
   "metadata": {
    "collapsed": true
   },
   "outputs": [],
   "source": [
    "# Festlegen welche Haushaltstitel Einnahmen (1) oder Ausgaben (2) sind \n",
    "dt = {\n",
    "1 : 'Erträge',\n",
    "2 : 'Aufwendungen',\n",
    "3 : 'Finanzergebnis',\n",
    "4 : 'Erträge (interne Leistungsbeziehungen)',\n",
    "5 : 'Aufwendungen (interne Leistungsbeziehungen)',\n",
    "0 : ''\n",
    "}"
   ]
  },
  {
   "cell_type": "code",
   "execution_count": 36,
   "metadata": {
    "collapsed": true
   },
   "outputs": [],
   "source": [
    "df_moers.to_csv('C:\\\\Users\\\\Michael\\\\Documents\\\\OKFN\\\\Open NRW\\\\python\\\\Haushalt_py.csv')"
   ]
  },
  {
   "cell_type": "code",
   "execution_count": 37,
   "metadata": {
    "collapsed": true
   },
   "outputs": [],
   "source": [
    "# Ab hier wird der Datensatz transponiert von wide ins long format \n",
    "new_moers = df_moers.iloc[2:,:8]"
   ]
  },
  {
   "cell_type": "code",
   "execution_count": 38,
   "metadata": {
    "collapsed": true
   },
   "outputs": [],
   "source": [
    "# Create a copy of moers dataframe without the Ist and Plan columns\n",
    "moers_ist2015 = new_moers.copy()"
   ]
  },
  {
   "cell_type": "code",
   "execution_count": 39,
   "metadata": {
    "collapsed": true
   },
   "outputs": [],
   "source": [
    "# Add column Betrag with Ist 2015 values\n",
    "moers_ist2015['Betrag'] = df_moers['Ist 2015']"
   ]
  },
  {
   "cell_type": "code",
   "execution_count": 40,
   "metadata": {
    "collapsed": true
   },
   "outputs": [],
   "source": [
    "# Create new column with Betrag Type information\n",
    "moers_ist2015['Betrag_Typ'] = 'Ist'"
   ]
  },
  {
   "cell_type": "code",
   "execution_count": 41,
   "metadata": {
    "collapsed": true
   },
   "outputs": [],
   "source": [
    "moers_ist2015['Jahr'] = 2015"
   ]
  },
  {
   "cell_type": "code",
   "execution_count": 42,
   "metadata": {
    "collapsed": true
   },
   "outputs": [],
   "source": [
    "# Create a copy of moers dataframe without the Ist and Plan columns\n",
    "moers_ist2016 = new_moers.copy()"
   ]
  },
  {
   "cell_type": "code",
   "execution_count": 43,
   "metadata": {
    "collapsed": true
   },
   "outputs": [],
   "source": [
    "# Add column Betrag with Ist 2015 values\n",
    "moers_ist2016['Betrag'] = df_moers['Ist 2016']\n",
    "# Create new column with Betrag Type information\n",
    "moers_ist2016['Betrag_Typ'] = 'Ist'\n",
    "moers_ist2016['Jahr'] = 2016"
   ]
  },
  {
   "cell_type": "code",
   "execution_count": 44,
   "metadata": {
    "collapsed": true
   },
   "outputs": [],
   "source": [
    "# Create a copy of moers dataframe without the Ist and Plan columns\n",
    "moers_plan2016 = new_moers.copy()\n",
    "# Add column Betrag with Ist 2015 values\n",
    "moers_plan2016['Betrag'] = df_moers['Plan 2016']\n",
    "# Create new column with Betrag Type information\n",
    "moers_plan2016['Betrag_Typ'] = 'Plan'\n",
    "moers_plan2016['Jahr'] = 2016"
   ]
  },
  {
   "cell_type": "code",
   "execution_count": 45,
   "metadata": {
    "collapsed": true
   },
   "outputs": [],
   "source": [
    "# Create a copy of moers dataframe without the Ist and Plan columns\n",
    "moers_plan2017 = new_moers.copy()\n",
    "# Add column Betrag with Ist 2015 values\n",
    "moers_plan2017['Betrag'] = df_moers['Plan 2017']\n",
    "# Create new column with Betrag Type information\n",
    "moers_plan2017['Betrag_Typ'] = 'Plan'\n",
    "moers_plan2017['Jahr'] = 2017"
   ]
  },
  {
   "cell_type": "code",
   "execution_count": 46,
   "metadata": {
    "collapsed": true
   },
   "outputs": [],
   "source": [
    "# Transponierter Datensatz im long Format ist jetzt erstellt\n",
    "new_moers = pd.concat([moers_ist2015, moers_ist2016, moers_plan2016, moers_plan2017])"
   ]
  },
  {
   "cell_type": "code",
   "execution_count": 47,
   "metadata": {
    "collapsed": true
   },
   "outputs": [],
   "source": [
    "#Deleting first Column\n",
    "new_moers = new_moers.iloc[2:,:13]\n"
   ]
  },
  {
   "cell_type": "code",
   "execution_count": 48,
   "metadata": {
    "collapsed": true
   },
   "outputs": [],
   "source": [
    "da = new_moers['Art']\n"
   ]
  },
  {
   "cell_type": "code",
   "execution_count": 49,
   "metadata": {
    "collapsed": true
   },
   "outputs": [],
   "source": [
    "da = da.fillna(0)"
   ]
  },
  {
   "cell_type": "code",
   "execution_count": 50,
   "metadata": {
    "collapsed": true
   },
   "outputs": [],
   "source": [
    "new_moers['HH Art'] = ''\n"
   ]
  },
  {
   "cell_type": "code",
   "execution_count": 51,
   "metadata": {
    "collapsed": true
   },
   "outputs": [],
   "source": [
    "new_moers['HH Art'] = [dt[i] for i in da.values]\n"
   ]
  },
  {
   "cell_type": "code",
   "execution_count": 52,
   "metadata": {
    "collapsed": true
   },
   "outputs": [],
   "source": [
    "# Wir visualisieren später nur die Einnahmen und Ausgaben - alle anderen Titel werden ausgelassen\n",
    "new_moers = new_moers[new_moers['Art']<3]\n"
   ]
  },
  {
   "cell_type": "code",
   "execution_count": 53,
   "metadata": {
    "collapsed": true
   },
   "outputs": [],
   "source": [
    "na = new_moers['Kostenart']"
   ]
  },
  {
   "cell_type": "code",
   "execution_count": 54,
   "metadata": {
    "collapsed": true
   },
   "outputs": [],
   "source": [
    "na = na.fillna('1000')"
   ]
  },
  {
   "cell_type": "code",
   "execution_count": 55,
   "metadata": {
    "collapsed": true
   },
   "outputs": [],
   "source": [
    "no = new_moers['Kostenart Beschreibung']"
   ]
  },
  {
   "cell_type": "code",
   "execution_count": 56,
   "metadata": {
    "collapsed": true
   },
   "outputs": [],
   "source": [
    "no = no.fillna('keine Details vorhanden')"
   ]
  },
  {
   "cell_type": "code",
   "execution_count": 57,
   "metadata": {
    "collapsed": true
   },
   "outputs": [],
   "source": [
    "new_moers['Kostenart Beschreibung'] = no"
   ]
  },
  {
   "cell_type": "code",
   "execution_count": 58,
   "metadata": {
    "collapsed": true
   },
   "outputs": [],
   "source": [
    "new_moers['Kostenart'] = na"
   ]
  },
  {
   "cell_type": "code",
   "execution_count": 59,
   "metadata": {
    "collapsed": true
   },
   "outputs": [],
   "source": [
    "absolute = new_moers['Betrag']"
   ]
  },
  {
   "cell_type": "code",
   "execution_count": 60,
   "metadata": {
    "collapsed": true
   },
   "outputs": [],
   "source": [
    "# Die Beträge in einheitliches Format  \n",
    "new_moers['Betrag'] = new_moers['Betrag'].str.replace('.','')"
   ]
  },
  {
   "cell_type": "code",
   "execution_count": 61,
   "metadata": {
    "collapsed": true
   },
   "outputs": [],
   "source": [
    "new_moers['Betrag'] = new_moers['Betrag'].str.replace(',','.')"
   ]
  },
  {
   "cell_type": "code",
   "execution_count": 62,
   "metadata": {
    "collapsed": true
   },
   "outputs": [],
   "source": [
    "new_moers['Betrag'] = pd.to_numeric(new_moers['Betrag']) "
   ]
  },
  {
   "cell_type": "code",
   "execution_count": 63,
   "metadata": {
    "collapsed": true
   },
   "outputs": [],
   "source": [
    "#new_moers['Betrag'] = abs(new_moers['Betrag']) "
   ]
  },
  {
   "cell_type": "code",
   "execution_count": 64,
   "metadata": {},
   "outputs": [],
   "source": [
    "new_moers['Betrag'] = new_moers.apply(lambda row: -1*(row[\"Betrag\"]) if row[\"HH Art\"] == \"Erträge\" else row[\"Betrag\"], axis=1)"
   ]
  },
  {
   "cell_type": "code",
   "execution_count": 65,
   "metadata": {},
   "outputs": [
    {
     "data": {
      "text/html": [
       "<div>\n",
       "<style>\n",
       "    .dataframe thead tr:only-child th {\n",
       "        text-align: right;\n",
       "    }\n",
       "\n",
       "    .dataframe thead th {\n",
       "        text-align: left;\n",
       "    }\n",
       "\n",
       "    .dataframe tbody tr th {\n",
       "        vertical-align: top;\n",
       "    }\n",
       "</style>\n",
       "<table border=\"1\" class=\"dataframe\">\n",
       "  <thead>\n",
       "    <tr style=\"text-align: right;\">\n",
       "      <th></th>\n",
       "      <th>Kontengruppe-Nummer</th>\n",
       "      <th>Kontengruppe</th>\n",
       "      <th>Profitcenter</th>\n",
       "      <th>Profitcenter-Bezeichnung</th>\n",
       "      <th>Art</th>\n",
       "      <th>PSP-Element</th>\n",
       "      <th>Kostenart</th>\n",
       "      <th>Kostenart Beschreibung</th>\n",
       "      <th>Betrag</th>\n",
       "      <th>Betrag_Typ</th>\n",
       "      <th>Jahr</th>\n",
       "      <th>HH Art</th>\n",
       "    </tr>\n",
       "  </thead>\n",
       "  <tbody>\n",
       "    <tr>\n",
       "      <th>209</th>\n",
       "      <td>50</td>\n",
       "      <td>Personalaufwendungen</td>\n",
       "      <td>502</td>\n",
       "      <td>Leistungen für Asylbewerber</td>\n",
       "      <td>2</td>\n",
       "      <td>1.100.05.02</td>\n",
       "      <td>5.0811e+07</td>\n",
       "      <td>RS Urlaub Beamte</td>\n",
       "      <td>-42.68</td>\n",
       "      <td>Ist</td>\n",
       "      <td>2015</td>\n",
       "      <td>Aufwendungen</td>\n",
       "    </tr>\n",
       "    <tr>\n",
       "      <th>301</th>\n",
       "      <td>54</td>\n",
       "      <td>sonstige ordentliche Aufwendungen</td>\n",
       "      <td>503</td>\n",
       "      <td>Soziale Einrichtungen</td>\n",
       "      <td>2</td>\n",
       "      <td>1.100.05.03</td>\n",
       "      <td>5.477e+07</td>\n",
       "      <td>Verr.bei Sachanlagen mit allg. Rücklage</td>\n",
       "      <td>-1155.54</td>\n",
       "      <td>Ist</td>\n",
       "      <td>2015</td>\n",
       "      <td>Aufwendungen</td>\n",
       "    </tr>\n",
       "    <tr>\n",
       "      <th>317</th>\n",
       "      <td>50</td>\n",
       "      <td>Personalaufwendungen</td>\n",
       "      <td>504</td>\n",
       "      <td>Leistungen n. d. Bundesversorgungsgesetz</td>\n",
       "      <td>2</td>\n",
       "      <td>1.100.05.04</td>\n",
       "      <td>5.0811e+07</td>\n",
       "      <td>RS Urlaub Beamte</td>\n",
       "      <td>-3392.06</td>\n",
       "      <td>Ist</td>\n",
       "      <td>2015</td>\n",
       "      <td>Aufwendungen</td>\n",
       "    </tr>\n",
       "    <tr>\n",
       "      <th>319</th>\n",
       "      <td>50</td>\n",
       "      <td>Personalaufwendungen</td>\n",
       "      <td>504</td>\n",
       "      <td>Leistungen n. d. Bundesversorgungsgesetz</td>\n",
       "      <td>2</td>\n",
       "      <td>1.100.05.04</td>\n",
       "      <td>5.0813e+07</td>\n",
       "      <td>RS Überstunden Beamte</td>\n",
       "      <td>-68.46</td>\n",
       "      <td>Ist</td>\n",
       "      <td>2015</td>\n",
       "      <td>Aufwendungen</td>\n",
       "    </tr>\n",
       "    <tr>\n",
       "      <th>320</th>\n",
       "      <td>50</td>\n",
       "      <td>Personalaufwendungen</td>\n",
       "      <td>504</td>\n",
       "      <td>Leistungen n. d. Bundesversorgungsgesetz</td>\n",
       "      <td>2</td>\n",
       "      <td>1.100.05.04</td>\n",
       "      <td>5.0814e+07</td>\n",
       "      <td>RS Überstunden tarifl.Beschäftigte</td>\n",
       "      <td>-93.09</td>\n",
       "      <td>Ist</td>\n",
       "      <td>2015</td>\n",
       "      <td>Aufwendungen</td>\n",
       "    </tr>\n",
       "    <tr>\n",
       "      <th>413</th>\n",
       "      <td>50</td>\n",
       "      <td>Personalaufwendungen</td>\n",
       "      <td>506</td>\n",
       "      <td>Betreuung n. d. Betreuungsgesetz</td>\n",
       "      <td>2</td>\n",
       "      <td>1.100.05.06</td>\n",
       "      <td>5.0811e+07</td>\n",
       "      <td>RS Urlaub Beamte</td>\n",
       "      <td>-4562.01</td>\n",
       "      <td>Ist</td>\n",
       "      <td>2015</td>\n",
       "      <td>Aufwendungen</td>\n",
       "    </tr>\n",
       "    <tr>\n",
       "      <th>414</th>\n",
       "      <td>50</td>\n",
       "      <td>Personalaufwendungen</td>\n",
       "      <td>506</td>\n",
       "      <td>Betreuung n. d. Betreuungsgesetz</td>\n",
       "      <td>2</td>\n",
       "      <td>1.100.05.06</td>\n",
       "      <td>5.0812e+07</td>\n",
       "      <td>RS Urlaub tarifl. Beschäftigte</td>\n",
       "      <td>-966.02</td>\n",
       "      <td>Ist</td>\n",
       "      <td>2015</td>\n",
       "      <td>Aufwendungen</td>\n",
       "    </tr>\n",
       "    <tr>\n",
       "      <th>460</th>\n",
       "      <td>50</td>\n",
       "      <td>Personalaufwendungen</td>\n",
       "      <td>508</td>\n",
       "      <td>Hilfe zum Lebensunterhalt</td>\n",
       "      <td>2</td>\n",
       "      <td>1.100.05.08</td>\n",
       "      <td>5.0811e+07</td>\n",
       "      <td>RS Urlaub Beamte</td>\n",
       "      <td>-743.97</td>\n",
       "      <td>Ist</td>\n",
       "      <td>2015</td>\n",
       "      <td>Aufwendungen</td>\n",
       "    </tr>\n",
       "    <tr>\n",
       "      <th>461</th>\n",
       "      <td>50</td>\n",
       "      <td>Personalaufwendungen</td>\n",
       "      <td>508</td>\n",
       "      <td>Hilfe zum Lebensunterhalt</td>\n",
       "      <td>2</td>\n",
       "      <td>1.100.05.08</td>\n",
       "      <td>5.0812e+07</td>\n",
       "      <td>RS Urlaub tarifl. Beschäftigte</td>\n",
       "      <td>-163.01</td>\n",
       "      <td>Ist</td>\n",
       "      <td>2015</td>\n",
       "      <td>Aufwendungen</td>\n",
       "    </tr>\n",
       "    <tr>\n",
       "      <th>463</th>\n",
       "      <td>50</td>\n",
       "      <td>Personalaufwendungen</td>\n",
       "      <td>508</td>\n",
       "      <td>Hilfe zum Lebensunterhalt</td>\n",
       "      <td>2</td>\n",
       "      <td>1.100.05.08</td>\n",
       "      <td>5.0814e+07</td>\n",
       "      <td>RS Überstunden tarifl.Beschäftigte</td>\n",
       "      <td>-23.51</td>\n",
       "      <td>Ist</td>\n",
       "      <td>2015</td>\n",
       "      <td>Aufwendungen</td>\n",
       "    </tr>\n",
       "    <tr>\n",
       "      <th>507</th>\n",
       "      <td>50</td>\n",
       "      <td>Personalaufwendungen</td>\n",
       "      <td>509</td>\n",
       "      <td>Grusi im Alter und bei Erwerbsmind.</td>\n",
       "      <td>2</td>\n",
       "      <td>1.100.05.09</td>\n",
       "      <td>5.0811e+07</td>\n",
       "      <td>RS Urlaub Beamte</td>\n",
       "      <td>-368.99</td>\n",
       "      <td>Ist</td>\n",
       "      <td>2015</td>\n",
       "      <td>Aufwendungen</td>\n",
       "    </tr>\n",
       "    <tr>\n",
       "      <th>508</th>\n",
       "      <td>50</td>\n",
       "      <td>Personalaufwendungen</td>\n",
       "      <td>509</td>\n",
       "      <td>Grusi im Alter und bei Erwerbsmind.</td>\n",
       "      <td>2</td>\n",
       "      <td>1.100.05.09</td>\n",
       "      <td>5.0812e+07</td>\n",
       "      <td>RS Urlaub tarifl. Beschäftigte</td>\n",
       "      <td>-679.01</td>\n",
       "      <td>Ist</td>\n",
       "      <td>2015</td>\n",
       "      <td>Aufwendungen</td>\n",
       "    </tr>\n",
       "    <tr>\n",
       "      <th>510</th>\n",
       "      <td>50</td>\n",
       "      <td>Personalaufwendungen</td>\n",
       "      <td>509</td>\n",
       "      <td>Grusi im Alter und bei Erwerbsmind.</td>\n",
       "      <td>2</td>\n",
       "      <td>1.100.05.09</td>\n",
       "      <td>5.0814e+07</td>\n",
       "      <td>RS Überstunden tarifl.Beschäftigte</td>\n",
       "      <td>-145.71</td>\n",
       "      <td>Ist</td>\n",
       "      <td>2015</td>\n",
       "      <td>Aufwendungen</td>\n",
       "    </tr>\n",
       "    <tr>\n",
       "      <th>550</th>\n",
       "      <td>50</td>\n",
       "      <td>Personalaufwendungen</td>\n",
       "      <td>511</td>\n",
       "      <td>Eingliederungshilfe f. beh. Menschen</td>\n",
       "      <td>2</td>\n",
       "      <td>1.100.05.11</td>\n",
       "      <td>5.0811e+07</td>\n",
       "      <td>RS Urlaub Beamte</td>\n",
       "      <td>-804.39</td>\n",
       "      <td>Ist</td>\n",
       "      <td>2015</td>\n",
       "      <td>Aufwendungen</td>\n",
       "    </tr>\n",
       "    <tr>\n",
       "      <th>584</th>\n",
       "      <td>50</td>\n",
       "      <td>Personalaufwendungen</td>\n",
       "      <td>512</td>\n",
       "      <td>Hilfe zur Pflege</td>\n",
       "      <td>2</td>\n",
       "      <td>1.100.05.12</td>\n",
       "      <td>5.0811e+07</td>\n",
       "      <td>RS Urlaub Beamte</td>\n",
       "      <td>-1743.47</td>\n",
       "      <td>Ist</td>\n",
       "      <td>2015</td>\n",
       "      <td>Aufwendungen</td>\n",
       "    </tr>\n",
       "    <tr>\n",
       "      <th>585</th>\n",
       "      <td>50</td>\n",
       "      <td>Personalaufwendungen</td>\n",
       "      <td>512</td>\n",
       "      <td>Hilfe zur Pflege</td>\n",
       "      <td>2</td>\n",
       "      <td>1.100.05.12</td>\n",
       "      <td>5.0812e+07</td>\n",
       "      <td>RS Urlaub tarifl. Beschäftigte</td>\n",
       "      <td>-362.71</td>\n",
       "      <td>Ist</td>\n",
       "      <td>2015</td>\n",
       "      <td>Aufwendungen</td>\n",
       "    </tr>\n",
       "    <tr>\n",
       "      <th>754</th>\n",
       "      <td>54</td>\n",
       "      <td>sonstige ordentliche Aufwendungen</td>\n",
       "      <td>601</td>\n",
       "      <td>Förderung v. Kindern in Tagesbetreuung</td>\n",
       "      <td>2</td>\n",
       "      <td>1.100.06.01</td>\n",
       "      <td>5.477e+07</td>\n",
       "      <td>Verr.bei Sachanlagen mit allg. Rücklage</td>\n",
       "      <td>-425.76</td>\n",
       "      <td>Ist</td>\n",
       "      <td>2015</td>\n",
       "      <td>Aufwendungen</td>\n",
       "    </tr>\n",
       "    <tr>\n",
       "      <th>815</th>\n",
       "      <td>50</td>\n",
       "      <td>Personalaufwendungen</td>\n",
       "      <td>602</td>\n",
       "      <td>Kinder- und Jugendarbeit</td>\n",
       "      <td>2</td>\n",
       "      <td>1.100.06.02</td>\n",
       "      <td>5.0811e+07</td>\n",
       "      <td>RS Urlaub Beamte</td>\n",
       "      <td>-822.44</td>\n",
       "      <td>Ist</td>\n",
       "      <td>2015</td>\n",
       "      <td>Aufwendungen</td>\n",
       "    </tr>\n",
       "    <tr>\n",
       "      <th>817</th>\n",
       "      <td>50</td>\n",
       "      <td>Personalaufwendungen</td>\n",
       "      <td>602</td>\n",
       "      <td>Kinder- und Jugendarbeit</td>\n",
       "      <td>2</td>\n",
       "      <td>1.100.06.02</td>\n",
       "      <td>5.0813e+07</td>\n",
       "      <td>RS Überstunden Beamte</td>\n",
       "      <td>-109.33</td>\n",
       "      <td>Ist</td>\n",
       "      <td>2015</td>\n",
       "      <td>Aufwendungen</td>\n",
       "    </tr>\n",
       "    <tr>\n",
       "      <th>1484</th>\n",
       "      <td>50</td>\n",
       "      <td>Personalaufwendungen</td>\n",
       "      <td>50701</td>\n",
       "      <td>Sozialentwicklungsplanung</td>\n",
       "      <td>2</td>\n",
       "      <td>1.100.05.07.01</td>\n",
       "      <td>5.0811e+07</td>\n",
       "      <td>RS Urlaub Beamte</td>\n",
       "      <td>-247.64</td>\n",
       "      <td>Ist</td>\n",
       "      <td>2015</td>\n",
       "      <td>Aufwendungen</td>\n",
       "    </tr>\n",
       "    <tr>\n",
       "      <th>1485</th>\n",
       "      <td>50</td>\n",
       "      <td>Personalaufwendungen</td>\n",
       "      <td>50701</td>\n",
       "      <td>Sozialentwicklungsplanung</td>\n",
       "      <td>2</td>\n",
       "      <td>1.100.05.07.01</td>\n",
       "      <td>5.0812e+07</td>\n",
       "      <td>RS Urlaub tarifl. Beschäftigte</td>\n",
       "      <td>-430.27</td>\n",
       "      <td>Ist</td>\n",
       "      <td>2015</td>\n",
       "      <td>Aufwendungen</td>\n",
       "    </tr>\n",
       "    <tr>\n",
       "      <th>1661</th>\n",
       "      <td>54</td>\n",
       "      <td>sonstige ordentliche Aufwendungen</td>\n",
       "      <td>60301</td>\n",
       "      <td>Hilfen zur Erziehung</td>\n",
       "      <td>2</td>\n",
       "      <td>1.100.06.03.01</td>\n",
       "      <td>5.477e+07</td>\n",
       "      <td>Verr.bei Sachanlagen mit allg. Rücklage</td>\n",
       "      <td>-837.74</td>\n",
       "      <td>Ist</td>\n",
       "      <td>2015</td>\n",
       "      <td>Aufwendungen</td>\n",
       "    </tr>\n",
       "    <tr>\n",
       "      <th>1684</th>\n",
       "      <td>50</td>\n",
       "      <td>Personalaufwendungen</td>\n",
       "      <td>60302</td>\n",
       "      <td>Beistand, Amtsvormundschaften u. a.</td>\n",
       "      <td>2</td>\n",
       "      <td>1.100.06.03.02</td>\n",
       "      <td>5.0811e+07</td>\n",
       "      <td>RS Urlaub Beamte</td>\n",
       "      <td>-2425.66</td>\n",
       "      <td>Ist</td>\n",
       "      <td>2015</td>\n",
       "      <td>Aufwendungen</td>\n",
       "    </tr>\n",
       "    <tr>\n",
       "      <th>1687</th>\n",
       "      <td>50</td>\n",
       "      <td>Personalaufwendungen</td>\n",
       "      <td>60302</td>\n",
       "      <td>Beistand, Amtsvormundschaften u. a.</td>\n",
       "      <td>2</td>\n",
       "      <td>1.100.06.03.02</td>\n",
       "      <td>5.0814e+07</td>\n",
       "      <td>RS Überstunden tarifl.Beschäftigte</td>\n",
       "      <td>-69.65</td>\n",
       "      <td>Ist</td>\n",
       "      <td>2015</td>\n",
       "      <td>Aufwendungen</td>\n",
       "    </tr>\n",
       "    <tr>\n",
       "      <th>272</th>\n",
       "      <td>50</td>\n",
       "      <td>Personalaufwendungen</td>\n",
       "      <td>503</td>\n",
       "      <td>Soziale Einrichtungen</td>\n",
       "      <td>2</td>\n",
       "      <td>1.100.05.03</td>\n",
       "      <td>5.0811e+07</td>\n",
       "      <td>RS Urlaub Beamte</td>\n",
       "      <td>-6604.11</td>\n",
       "      <td>Ist</td>\n",
       "      <td>2016</td>\n",
       "      <td>Aufwendungen</td>\n",
       "    </tr>\n",
       "    <tr>\n",
       "      <th>274</th>\n",
       "      <td>50</td>\n",
       "      <td>Personalaufwendungen</td>\n",
       "      <td>503</td>\n",
       "      <td>Soziale Einrichtungen</td>\n",
       "      <td>2</td>\n",
       "      <td>1.100.05.03</td>\n",
       "      <td>5.0813e+07</td>\n",
       "      <td>RS Überstunden Beamte</td>\n",
       "      <td>-8056.22</td>\n",
       "      <td>Ist</td>\n",
       "      <td>2016</td>\n",
       "      <td>Aufwendungen</td>\n",
       "    </tr>\n",
       "    <tr>\n",
       "      <th>275</th>\n",
       "      <td>50</td>\n",
       "      <td>Personalaufwendungen</td>\n",
       "      <td>503</td>\n",
       "      <td>Soziale Einrichtungen</td>\n",
       "      <td>2</td>\n",
       "      <td>1.100.05.03</td>\n",
       "      <td>5.0814e+07</td>\n",
       "      <td>RS Überstunden tarifl.Beschäftigte</td>\n",
       "      <td>-1785.94</td>\n",
       "      <td>Ist</td>\n",
       "      <td>2016</td>\n",
       "      <td>Aufwendungen</td>\n",
       "    </tr>\n",
       "    <tr>\n",
       "      <th>301</th>\n",
       "      <td>54</td>\n",
       "      <td>sonstige ordentliche Aufwendungen</td>\n",
       "      <td>503</td>\n",
       "      <td>Soziale Einrichtungen</td>\n",
       "      <td>2</td>\n",
       "      <td>1.100.05.03</td>\n",
       "      <td>5.477e+07</td>\n",
       "      <td>Verr.bei Sachanlagen mit allg. Rücklage</td>\n",
       "      <td>-48.72</td>\n",
       "      <td>Ist</td>\n",
       "      <td>2016</td>\n",
       "      <td>Aufwendungen</td>\n",
       "    </tr>\n",
       "    <tr>\n",
       "      <th>317</th>\n",
       "      <td>50</td>\n",
       "      <td>Personalaufwendungen</td>\n",
       "      <td>504</td>\n",
       "      <td>Leistungen n. d. Bundesversorgungsgesetz</td>\n",
       "      <td>2</td>\n",
       "      <td>1.100.05.04</td>\n",
       "      <td>5.0811e+07</td>\n",
       "      <td>RS Urlaub Beamte</td>\n",
       "      <td>-1377.08</td>\n",
       "      <td>Ist</td>\n",
       "      <td>2016</td>\n",
       "      <td>Aufwendungen</td>\n",
       "    </tr>\n",
       "    <tr>\n",
       "      <th>319</th>\n",
       "      <td>50</td>\n",
       "      <td>Personalaufwendungen</td>\n",
       "      <td>504</td>\n",
       "      <td>Leistungen n. d. Bundesversorgungsgesetz</td>\n",
       "      <td>2</td>\n",
       "      <td>1.100.05.04</td>\n",
       "      <td>5.0813e+07</td>\n",
       "      <td>RS Überstunden Beamte</td>\n",
       "      <td>-304.41</td>\n",
       "      <td>Ist</td>\n",
       "      <td>2016</td>\n",
       "      <td>Aufwendungen</td>\n",
       "    </tr>\n",
       "    <tr>\n",
       "      <th>340</th>\n",
       "      <td>54</td>\n",
       "      <td>sonstige ordentliche Aufwendungen</td>\n",
       "      <td>504</td>\n",
       "      <td>Leistungen n. d. Bundesversorgungsgesetz</td>\n",
       "      <td>2</td>\n",
       "      <td>1.100.05.04</td>\n",
       "      <td>5.477e+07</td>\n",
       "      <td>Verr.bei Sachanlagen mit allg. Rücklage</td>\n",
       "      <td>-48.72</td>\n",
       "      <td>Ist</td>\n",
       "      <td>2016</td>\n",
       "      <td>Aufwendungen</td>\n",
       "    </tr>\n",
       "    <tr>\n",
       "      <th>413</th>\n",
       "      <td>50</td>\n",
       "      <td>Personalaufwendungen</td>\n",
       "      <td>506</td>\n",
       "      <td>Betreuung n. d. Betreuungsgesetz</td>\n",
       "      <td>2</td>\n",
       "      <td>1.100.05.06</td>\n",
       "      <td>5.0811e+07</td>\n",
       "      <td>RS Urlaub Beamte</td>\n",
       "      <td>-1159.00</td>\n",
       "      <td>Ist</td>\n",
       "      <td>2016</td>\n",
       "      <td>Aufwendungen</td>\n",
       "    </tr>\n",
       "    <tr>\n",
       "      <th>416</th>\n",
       "      <td>50</td>\n",
       "      <td>Personalaufwendungen</td>\n",
       "      <td>506</td>\n",
       "      <td>Betreuung n. d. Betreuungsgesetz</td>\n",
       "      <td>2</td>\n",
       "      <td>1.100.05.06</td>\n",
       "      <td>5.0814e+07</td>\n",
       "      <td>RS Überstunden tarifl.Beschäftigte</td>\n",
       "      <td>-54.55</td>\n",
       "      <td>Ist</td>\n",
       "      <td>2016</td>\n",
       "      <td>Aufwendungen</td>\n",
       "    </tr>\n",
       "    <tr>\n",
       "      <th>462</th>\n",
       "      <td>50</td>\n",
       "      <td>Personalaufwendungen</td>\n",
       "      <td>508</td>\n",
       "      <td>Hilfe zum Lebensunterhalt</td>\n",
       "      <td>2</td>\n",
       "      <td>1.100.05.08</td>\n",
       "      <td>5.0813e+07</td>\n",
       "      <td>RS Überstunden Beamte</td>\n",
       "      <td>-201.89</td>\n",
       "      <td>Ist</td>\n",
       "      <td>2016</td>\n",
       "      <td>Aufwendungen</td>\n",
       "    </tr>\n",
       "    <tr>\n",
       "      <th>463</th>\n",
       "      <td>50</td>\n",
       "      <td>Personalaufwendungen</td>\n",
       "      <td>508</td>\n",
       "      <td>Hilfe zum Lebensunterhalt</td>\n",
       "      <td>2</td>\n",
       "      <td>1.100.05.08</td>\n",
       "      <td>5.0814e+07</td>\n",
       "      <td>RS Überstunden tarifl.Beschäftigte</td>\n",
       "      <td>-36.55</td>\n",
       "      <td>Ist</td>\n",
       "      <td>2016</td>\n",
       "      <td>Aufwendungen</td>\n",
       "    </tr>\n",
       "    <tr>\n",
       "      <th>509</th>\n",
       "      <td>50</td>\n",
       "      <td>Personalaufwendungen</td>\n",
       "      <td>509</td>\n",
       "      <td>Grusi im Alter und bei Erwerbsmind.</td>\n",
       "      <td>2</td>\n",
       "      <td>1.100.05.09</td>\n",
       "      <td>5.0813e+07</td>\n",
       "      <td>RS Überstunden Beamte</td>\n",
       "      <td>-3766.86</td>\n",
       "      <td>Ist</td>\n",
       "      <td>2016</td>\n",
       "      <td>Aufwendungen</td>\n",
       "    </tr>\n",
       "    <tr>\n",
       "      <th>526</th>\n",
       "      <td>54</td>\n",
       "      <td>sonstige ordentliche Aufwendungen</td>\n",
       "      <td>509</td>\n",
       "      <td>Grusi im Alter und bei Erwerbsmind.</td>\n",
       "      <td>2</td>\n",
       "      <td>1.100.05.09</td>\n",
       "      <td>5.477e+07</td>\n",
       "      <td>Verr.bei Sachanlagen mit allg. Rücklage</td>\n",
       "      <td>-24.36</td>\n",
       "      <td>Ist</td>\n",
       "      <td>2016</td>\n",
       "      <td>Aufwendungen</td>\n",
       "    </tr>\n",
       "    <tr>\n",
       "      <th>585</th>\n",
       "      <td>50</td>\n",
       "      <td>Personalaufwendungen</td>\n",
       "      <td>512</td>\n",
       "      <td>Hilfe zur Pflege</td>\n",
       "      <td>2</td>\n",
       "      <td>1.100.05.12</td>\n",
       "      <td>5.0812e+07</td>\n",
       "      <td>RS Urlaub tarifl. Beschäftigte</td>\n",
       "      <td>-558.68</td>\n",
       "      <td>Ist</td>\n",
       "      <td>2016</td>\n",
       "      <td>Aufwendungen</td>\n",
       "    </tr>\n",
       "    <tr>\n",
       "      <th>587</th>\n",
       "      <td>50</td>\n",
       "      <td>Personalaufwendungen</td>\n",
       "      <td>512</td>\n",
       "      <td>Hilfe zur Pflege</td>\n",
       "      <td>2</td>\n",
       "      <td>1.100.05.12</td>\n",
       "      <td>5.0814e+07</td>\n",
       "      <td>RS Überstunden tarifl.Beschäftigte</td>\n",
       "      <td>-1360.20</td>\n",
       "      <td>Ist</td>\n",
       "      <td>2016</td>\n",
       "      <td>Aufwendungen</td>\n",
       "    </tr>\n",
       "    <tr>\n",
       "      <th>710</th>\n",
       "      <td>50</td>\n",
       "      <td>Personalaufwendungen</td>\n",
       "      <td>601</td>\n",
       "      <td>Förderung v. Kindern in Tagesbetreuung</td>\n",
       "      <td>2</td>\n",
       "      <td>1.100.06.01</td>\n",
       "      <td>5.0811e+07</td>\n",
       "      <td>RS Urlaub Beamte</td>\n",
       "      <td>-5262.23</td>\n",
       "      <td>Ist</td>\n",
       "      <td>2016</td>\n",
       "      <td>Aufwendungen</td>\n",
       "    </tr>\n",
       "    <tr>\n",
       "      <th>712</th>\n",
       "      <td>50</td>\n",
       "      <td>Personalaufwendungen</td>\n",
       "      <td>601</td>\n",
       "      <td>Förderung v. Kindern in Tagesbetreuung</td>\n",
       "      <td>2</td>\n",
       "      <td>1.100.06.01</td>\n",
       "      <td>5.0813e+07</td>\n",
       "      <td>RS Überstunden Beamte</td>\n",
       "      <td>-2264.06</td>\n",
       "      <td>Ist</td>\n",
       "      <td>2016</td>\n",
       "      <td>Aufwendungen</td>\n",
       "    </tr>\n",
       "    <tr>\n",
       "      <th>754</th>\n",
       "      <td>54</td>\n",
       "      <td>sonstige ordentliche Aufwendungen</td>\n",
       "      <td>601</td>\n",
       "      <td>Förderung v. Kindern in Tagesbetreuung</td>\n",
       "      <td>2</td>\n",
       "      <td>1.100.06.01</td>\n",
       "      <td>5.477e+07</td>\n",
       "      <td>Verr.bei Sachanlagen mit allg. Rücklage</td>\n",
       "      <td>-169.60</td>\n",
       "      <td>Ist</td>\n",
       "      <td>2016</td>\n",
       "      <td>Aufwendungen</td>\n",
       "    </tr>\n",
       "    <tr>\n",
       "      <th>816</th>\n",
       "      <td>50</td>\n",
       "      <td>Personalaufwendungen</td>\n",
       "      <td>602</td>\n",
       "      <td>Kinder- und Jugendarbeit</td>\n",
       "      <td>2</td>\n",
       "      <td>1.100.06.02</td>\n",
       "      <td>5.0812e+07</td>\n",
       "      <td>RS Urlaub tarifl. Beschäftigte</td>\n",
       "      <td>-9808.11</td>\n",
       "      <td>Ist</td>\n",
       "      <td>2016</td>\n",
       "      <td>Aufwendungen</td>\n",
       "    </tr>\n",
       "    <tr>\n",
       "      <th>817</th>\n",
       "      <td>50</td>\n",
       "      <td>Personalaufwendungen</td>\n",
       "      <td>602</td>\n",
       "      <td>Kinder- und Jugendarbeit</td>\n",
       "      <td>2</td>\n",
       "      <td>1.100.06.02</td>\n",
       "      <td>5.0813e+07</td>\n",
       "      <td>RS Überstunden Beamte</td>\n",
       "      <td>-476.04</td>\n",
       "      <td>Ist</td>\n",
       "      <td>2016</td>\n",
       "      <td>Aufwendungen</td>\n",
       "    </tr>\n",
       "    <tr>\n",
       "      <th>818</th>\n",
       "      <td>50</td>\n",
       "      <td>Personalaufwendungen</td>\n",
       "      <td>602</td>\n",
       "      <td>Kinder- und Jugendarbeit</td>\n",
       "      <td>2</td>\n",
       "      <td>1.100.06.02</td>\n",
       "      <td>5.0814e+07</td>\n",
       "      <td>RS Überstunden tarifl.Beschäftigte</td>\n",
       "      <td>-38513.51</td>\n",
       "      <td>Ist</td>\n",
       "      <td>2016</td>\n",
       "      <td>Aufwendungen</td>\n",
       "    </tr>\n",
       "    <tr>\n",
       "      <th>868</th>\n",
       "      <td>54</td>\n",
       "      <td>sonstige ordentliche Aufwendungen</td>\n",
       "      <td>602</td>\n",
       "      <td>Kinder- und Jugendarbeit</td>\n",
       "      <td>2</td>\n",
       "      <td>1.100.06.02</td>\n",
       "      <td>5.477e+07</td>\n",
       "      <td>Verr.bei Sachanlagen mit allg. Rücklage</td>\n",
       "      <td>-723.26</td>\n",
       "      <td>Ist</td>\n",
       "      <td>2016</td>\n",
       "      <td>Aufwendungen</td>\n",
       "    </tr>\n",
       "    <tr>\n",
       "      <th>1533</th>\n",
       "      <td>50</td>\n",
       "      <td>Personalaufwendungen</td>\n",
       "      <td>50702</td>\n",
       "      <td>Soziale Stadt</td>\n",
       "      <td>2</td>\n",
       "      <td>1.100.05.07.02</td>\n",
       "      <td>5.0812e+07</td>\n",
       "      <td>RS Urlaub tarifl. Beschäftigte</td>\n",
       "      <td>-14223.96</td>\n",
       "      <td>Ist</td>\n",
       "      <td>2016</td>\n",
       "      <td>Aufwendungen</td>\n",
       "    </tr>\n",
       "    <tr>\n",
       "      <th>1535</th>\n",
       "      <td>50</td>\n",
       "      <td>Personalaufwendungen</td>\n",
       "      <td>50702</td>\n",
       "      <td>Soziale Stadt</td>\n",
       "      <td>2</td>\n",
       "      <td>1.100.05.07.02</td>\n",
       "      <td>5.0814e+07</td>\n",
       "      <td>RS Überstunden tarifl.Beschäftigte</td>\n",
       "      <td>-491.93</td>\n",
       "      <td>Ist</td>\n",
       "      <td>2016</td>\n",
       "      <td>Aufwendungen</td>\n",
       "    </tr>\n",
       "    <tr>\n",
       "      <th>1661</th>\n",
       "      <td>54</td>\n",
       "      <td>sonstige ordentliche Aufwendungen</td>\n",
       "      <td>60301</td>\n",
       "      <td>Hilfen zur Erziehung</td>\n",
       "      <td>2</td>\n",
       "      <td>1.100.06.03.01</td>\n",
       "      <td>5.477e+07</td>\n",
       "      <td>Verr.bei Sachanlagen mit allg. Rücklage</td>\n",
       "      <td>-188.01</td>\n",
       "      <td>Ist</td>\n",
       "      <td>2016</td>\n",
       "      <td>Aufwendungen</td>\n",
       "    </tr>\n",
       "  </tbody>\n",
       "</table>\n",
       "</div>"
      ],
      "text/plain": [
       "      Kontengruppe-Nummer                       Kontengruppe Profitcenter  \\\n",
       "209                    50               Personalaufwendungen          502   \n",
       "301                    54  sonstige ordentliche Aufwendungen          503   \n",
       "317                    50               Personalaufwendungen          504   \n",
       "319                    50               Personalaufwendungen          504   \n",
       "320                    50               Personalaufwendungen          504   \n",
       "413                    50               Personalaufwendungen          506   \n",
       "414                    50               Personalaufwendungen          506   \n",
       "460                    50               Personalaufwendungen          508   \n",
       "461                    50               Personalaufwendungen          508   \n",
       "463                    50               Personalaufwendungen          508   \n",
       "507                    50               Personalaufwendungen          509   \n",
       "508                    50               Personalaufwendungen          509   \n",
       "510                    50               Personalaufwendungen          509   \n",
       "550                    50               Personalaufwendungen          511   \n",
       "584                    50               Personalaufwendungen          512   \n",
       "585                    50               Personalaufwendungen          512   \n",
       "754                    54  sonstige ordentliche Aufwendungen          601   \n",
       "815                    50               Personalaufwendungen          602   \n",
       "817                    50               Personalaufwendungen          602   \n",
       "1484                   50               Personalaufwendungen        50701   \n",
       "1485                   50               Personalaufwendungen        50701   \n",
       "1661                   54  sonstige ordentliche Aufwendungen        60301   \n",
       "1684                   50               Personalaufwendungen        60302   \n",
       "1687                   50               Personalaufwendungen        60302   \n",
       "272                    50               Personalaufwendungen          503   \n",
       "274                    50               Personalaufwendungen          503   \n",
       "275                    50               Personalaufwendungen          503   \n",
       "301                    54  sonstige ordentliche Aufwendungen          503   \n",
       "317                    50               Personalaufwendungen          504   \n",
       "319                    50               Personalaufwendungen          504   \n",
       "340                    54  sonstige ordentliche Aufwendungen          504   \n",
       "413                    50               Personalaufwendungen          506   \n",
       "416                    50               Personalaufwendungen          506   \n",
       "462                    50               Personalaufwendungen          508   \n",
       "463                    50               Personalaufwendungen          508   \n",
       "509                    50               Personalaufwendungen          509   \n",
       "526                    54  sonstige ordentliche Aufwendungen          509   \n",
       "585                    50               Personalaufwendungen          512   \n",
       "587                    50               Personalaufwendungen          512   \n",
       "710                    50               Personalaufwendungen          601   \n",
       "712                    50               Personalaufwendungen          601   \n",
       "754                    54  sonstige ordentliche Aufwendungen          601   \n",
       "816                    50               Personalaufwendungen          602   \n",
       "817                    50               Personalaufwendungen          602   \n",
       "818                    50               Personalaufwendungen          602   \n",
       "868                    54  sonstige ordentliche Aufwendungen          602   \n",
       "1533                   50               Personalaufwendungen        50702   \n",
       "1535                   50               Personalaufwendungen        50702   \n",
       "1661                   54  sonstige ordentliche Aufwendungen        60301   \n",
       "\n",
       "                        Profitcenter-Bezeichnung  Art     PSP-Element  \\\n",
       "209                 Leistungen für Asylbewerber     2     1.100.05.02   \n",
       "301                       Soziale Einrichtungen     2     1.100.05.03   \n",
       "317    Leistungen n. d. Bundesversorgungsgesetz     2     1.100.05.04   \n",
       "319    Leistungen n. d. Bundesversorgungsgesetz     2     1.100.05.04   \n",
       "320    Leistungen n. d. Bundesversorgungsgesetz     2     1.100.05.04   \n",
       "413            Betreuung n. d. Betreuungsgesetz     2     1.100.05.06   \n",
       "414            Betreuung n. d. Betreuungsgesetz     2     1.100.05.06   \n",
       "460                   Hilfe zum Lebensunterhalt     2     1.100.05.08   \n",
       "461                   Hilfe zum Lebensunterhalt     2     1.100.05.08   \n",
       "463                   Hilfe zum Lebensunterhalt     2     1.100.05.08   \n",
       "507         Grusi im Alter und bei Erwerbsmind.     2     1.100.05.09   \n",
       "508         Grusi im Alter und bei Erwerbsmind.     2     1.100.05.09   \n",
       "510         Grusi im Alter und bei Erwerbsmind.     2     1.100.05.09   \n",
       "550        Eingliederungshilfe f. beh. Menschen     2     1.100.05.11   \n",
       "584                            Hilfe zur Pflege     2     1.100.05.12   \n",
       "585                            Hilfe zur Pflege     2     1.100.05.12   \n",
       "754      Förderung v. Kindern in Tagesbetreuung     2     1.100.06.01   \n",
       "815                    Kinder- und Jugendarbeit     2     1.100.06.02   \n",
       "817                    Kinder- und Jugendarbeit     2     1.100.06.02   \n",
       "1484                  Sozialentwicklungsplanung     2  1.100.05.07.01   \n",
       "1485                  Sozialentwicklungsplanung     2  1.100.05.07.01   \n",
       "1661                       Hilfen zur Erziehung     2  1.100.06.03.01   \n",
       "1684        Beistand, Amtsvormundschaften u. a.     2  1.100.06.03.02   \n",
       "1687        Beistand, Amtsvormundschaften u. a.     2  1.100.06.03.02   \n",
       "272                       Soziale Einrichtungen     2     1.100.05.03   \n",
       "274                       Soziale Einrichtungen     2     1.100.05.03   \n",
       "275                       Soziale Einrichtungen     2     1.100.05.03   \n",
       "301                       Soziale Einrichtungen     2     1.100.05.03   \n",
       "317    Leistungen n. d. Bundesversorgungsgesetz     2     1.100.05.04   \n",
       "319    Leistungen n. d. Bundesversorgungsgesetz     2     1.100.05.04   \n",
       "340    Leistungen n. d. Bundesversorgungsgesetz     2     1.100.05.04   \n",
       "413            Betreuung n. d. Betreuungsgesetz     2     1.100.05.06   \n",
       "416            Betreuung n. d. Betreuungsgesetz     2     1.100.05.06   \n",
       "462                   Hilfe zum Lebensunterhalt     2     1.100.05.08   \n",
       "463                   Hilfe zum Lebensunterhalt     2     1.100.05.08   \n",
       "509         Grusi im Alter und bei Erwerbsmind.     2     1.100.05.09   \n",
       "526         Grusi im Alter und bei Erwerbsmind.     2     1.100.05.09   \n",
       "585                            Hilfe zur Pflege     2     1.100.05.12   \n",
       "587                            Hilfe zur Pflege     2     1.100.05.12   \n",
       "710      Förderung v. Kindern in Tagesbetreuung     2     1.100.06.01   \n",
       "712      Förderung v. Kindern in Tagesbetreuung     2     1.100.06.01   \n",
       "754      Förderung v. Kindern in Tagesbetreuung     2     1.100.06.01   \n",
       "816                    Kinder- und Jugendarbeit     2     1.100.06.02   \n",
       "817                    Kinder- und Jugendarbeit     2     1.100.06.02   \n",
       "818                    Kinder- und Jugendarbeit     2     1.100.06.02   \n",
       "868                    Kinder- und Jugendarbeit     2     1.100.06.02   \n",
       "1533                              Soziale Stadt     2  1.100.05.07.02   \n",
       "1535                              Soziale Stadt     2  1.100.05.07.02   \n",
       "1661                       Hilfen zur Erziehung     2  1.100.06.03.01   \n",
       "\n",
       "       Kostenart                   Kostenart Beschreibung    Betrag  \\\n",
       "209   5.0811e+07                         RS Urlaub Beamte    -42.68   \n",
       "301    5.477e+07  Verr.bei Sachanlagen mit allg. Rücklage  -1155.54   \n",
       "317   5.0811e+07                         RS Urlaub Beamte  -3392.06   \n",
       "319   5.0813e+07                    RS Überstunden Beamte    -68.46   \n",
       "320   5.0814e+07       RS Überstunden tarifl.Beschäftigte    -93.09   \n",
       "413   5.0811e+07                         RS Urlaub Beamte  -4562.01   \n",
       "414   5.0812e+07           RS Urlaub tarifl. Beschäftigte   -966.02   \n",
       "460   5.0811e+07                         RS Urlaub Beamte   -743.97   \n",
       "461   5.0812e+07           RS Urlaub tarifl. Beschäftigte   -163.01   \n",
       "463   5.0814e+07       RS Überstunden tarifl.Beschäftigte    -23.51   \n",
       "507   5.0811e+07                         RS Urlaub Beamte   -368.99   \n",
       "508   5.0812e+07           RS Urlaub tarifl. Beschäftigte   -679.01   \n",
       "510   5.0814e+07       RS Überstunden tarifl.Beschäftigte   -145.71   \n",
       "550   5.0811e+07                         RS Urlaub Beamte   -804.39   \n",
       "584   5.0811e+07                         RS Urlaub Beamte  -1743.47   \n",
       "585   5.0812e+07           RS Urlaub tarifl. Beschäftigte   -362.71   \n",
       "754    5.477e+07  Verr.bei Sachanlagen mit allg. Rücklage   -425.76   \n",
       "815   5.0811e+07                         RS Urlaub Beamte   -822.44   \n",
       "817   5.0813e+07                    RS Überstunden Beamte   -109.33   \n",
       "1484  5.0811e+07                         RS Urlaub Beamte   -247.64   \n",
       "1485  5.0812e+07           RS Urlaub tarifl. Beschäftigte   -430.27   \n",
       "1661   5.477e+07  Verr.bei Sachanlagen mit allg. Rücklage   -837.74   \n",
       "1684  5.0811e+07                         RS Urlaub Beamte  -2425.66   \n",
       "1687  5.0814e+07       RS Überstunden tarifl.Beschäftigte    -69.65   \n",
       "272   5.0811e+07                         RS Urlaub Beamte  -6604.11   \n",
       "274   5.0813e+07                    RS Überstunden Beamte  -8056.22   \n",
       "275   5.0814e+07       RS Überstunden tarifl.Beschäftigte  -1785.94   \n",
       "301    5.477e+07  Verr.bei Sachanlagen mit allg. Rücklage    -48.72   \n",
       "317   5.0811e+07                         RS Urlaub Beamte  -1377.08   \n",
       "319   5.0813e+07                    RS Überstunden Beamte   -304.41   \n",
       "340    5.477e+07  Verr.bei Sachanlagen mit allg. Rücklage    -48.72   \n",
       "413   5.0811e+07                         RS Urlaub Beamte  -1159.00   \n",
       "416   5.0814e+07       RS Überstunden tarifl.Beschäftigte    -54.55   \n",
       "462   5.0813e+07                    RS Überstunden Beamte   -201.89   \n",
       "463   5.0814e+07       RS Überstunden tarifl.Beschäftigte    -36.55   \n",
       "509   5.0813e+07                    RS Überstunden Beamte  -3766.86   \n",
       "526    5.477e+07  Verr.bei Sachanlagen mit allg. Rücklage    -24.36   \n",
       "585   5.0812e+07           RS Urlaub tarifl. Beschäftigte   -558.68   \n",
       "587   5.0814e+07       RS Überstunden tarifl.Beschäftigte  -1360.20   \n",
       "710   5.0811e+07                         RS Urlaub Beamte  -5262.23   \n",
       "712   5.0813e+07                    RS Überstunden Beamte  -2264.06   \n",
       "754    5.477e+07  Verr.bei Sachanlagen mit allg. Rücklage   -169.60   \n",
       "816   5.0812e+07           RS Urlaub tarifl. Beschäftigte  -9808.11   \n",
       "817   5.0813e+07                    RS Überstunden Beamte   -476.04   \n",
       "818   5.0814e+07       RS Überstunden tarifl.Beschäftigte -38513.51   \n",
       "868    5.477e+07  Verr.bei Sachanlagen mit allg. Rücklage   -723.26   \n",
       "1533  5.0812e+07           RS Urlaub tarifl. Beschäftigte -14223.96   \n",
       "1535  5.0814e+07       RS Überstunden tarifl.Beschäftigte   -491.93   \n",
       "1661   5.477e+07  Verr.bei Sachanlagen mit allg. Rücklage   -188.01   \n",
       "\n",
       "     Betrag_Typ  Jahr        HH Art  \n",
       "209         Ist  2015  Aufwendungen  \n",
       "301         Ist  2015  Aufwendungen  \n",
       "317         Ist  2015  Aufwendungen  \n",
       "319         Ist  2015  Aufwendungen  \n",
       "320         Ist  2015  Aufwendungen  \n",
       "413         Ist  2015  Aufwendungen  \n",
       "414         Ist  2015  Aufwendungen  \n",
       "460         Ist  2015  Aufwendungen  \n",
       "461         Ist  2015  Aufwendungen  \n",
       "463         Ist  2015  Aufwendungen  \n",
       "507         Ist  2015  Aufwendungen  \n",
       "508         Ist  2015  Aufwendungen  \n",
       "510         Ist  2015  Aufwendungen  \n",
       "550         Ist  2015  Aufwendungen  \n",
       "584         Ist  2015  Aufwendungen  \n",
       "585         Ist  2015  Aufwendungen  \n",
       "754         Ist  2015  Aufwendungen  \n",
       "815         Ist  2015  Aufwendungen  \n",
       "817         Ist  2015  Aufwendungen  \n",
       "1484        Ist  2015  Aufwendungen  \n",
       "1485        Ist  2015  Aufwendungen  \n",
       "1661        Ist  2015  Aufwendungen  \n",
       "1684        Ist  2015  Aufwendungen  \n",
       "1687        Ist  2015  Aufwendungen  \n",
       "272         Ist  2016  Aufwendungen  \n",
       "274         Ist  2016  Aufwendungen  \n",
       "275         Ist  2016  Aufwendungen  \n",
       "301         Ist  2016  Aufwendungen  \n",
       "317         Ist  2016  Aufwendungen  \n",
       "319         Ist  2016  Aufwendungen  \n",
       "340         Ist  2016  Aufwendungen  \n",
       "413         Ist  2016  Aufwendungen  \n",
       "416         Ist  2016  Aufwendungen  \n",
       "462         Ist  2016  Aufwendungen  \n",
       "463         Ist  2016  Aufwendungen  \n",
       "509         Ist  2016  Aufwendungen  \n",
       "526         Ist  2016  Aufwendungen  \n",
       "585         Ist  2016  Aufwendungen  \n",
       "587         Ist  2016  Aufwendungen  \n",
       "710         Ist  2016  Aufwendungen  \n",
       "712         Ist  2016  Aufwendungen  \n",
       "754         Ist  2016  Aufwendungen  \n",
       "816         Ist  2016  Aufwendungen  \n",
       "817         Ist  2016  Aufwendungen  \n",
       "818         Ist  2016  Aufwendungen  \n",
       "868         Ist  2016  Aufwendungen  \n",
       "1533        Ist  2016  Aufwendungen  \n",
       "1535        Ist  2016  Aufwendungen  \n",
       "1661        Ist  2016  Aufwendungen  "
      ]
     },
     "execution_count": 65,
     "metadata": {},
     "output_type": "execute_result"
    }
   ],
   "source": [
    "new_moers[(new_moers['HH Art'] == 'Aufwendungen') & (new_moers['Betrag'] < 0)]"
   ]
  },
  {
   "cell_type": "code",
   "execution_count": 66,
   "metadata": {
    "collapsed": true
   },
   "outputs": [],
   "source": [
    "codelist = {\n",
    "10101 : \"Fachbereich 1: Büro des Bürgermeisters\", \n",
    "10102 : \"Fachbereich 1: Büro des Bürgermeisters\",\n",
    "109 : \"Fachbereich 1: Büro des Bürgermeisters\",\n",
    "150101 : \"Fachbereich 1: Büro des Bürgermeisters\",\n",
    "104 : \"Fachbereich 2: Finanzen\",\n",
    "108 : \"Fachbereich 2: Finanzen\",  \n",
    "701 : \"Fachbereich 2: Finanzen\",\n",
    "150204 : \"Fachbereich 2: Finanzen\",\n",
    "1601 : \"Fachbereich 2: Finanzen\",\n",
    "1602 : \"Fachbereich 2: Finanzen\",\n",
    "402 : \"Fachbereich 2: Finanzen\",\n",
    "403 : \"Fachbereich 2: Finanzen\",\n",
    "107 : \"Fachbereich 3: Interner Service\",\n",
    "10201 : \"Fachbereich 3: Interner Service\",\n",
    "10202 : \"Fachbereich 3: Interner Service\",\n",
    "10203 : \"Fachbereich 3: Interner Service\",\n",
    "10301 : \"Fachbereich 3: Interner Service\",\n",
    "110 : \"Fachbereich 3: Interner Service\",\n",
    "20101 : \"Fachbereich 3: Interner Service\",    \n",
    "20102 : \"Fachbereich 4: Ordnung und Bürgerservice\",\n",
    "20201 : \"Fachbereich 4: Ordnung und Bürgerservice\",\n",
    "20202 : \"Fachbereich 4: Ordnung und Bürgerservice\",\n",
    "20204 : \"Fachbereich 4: Ordnung und Bürgerservice\",\n",
    "20205 : \"Fachbereich 4: Ordnung und Bürgerservice\",\n",
    "20206 : \"Fachbereich 4: Ordnung und Bürgerservice\",\n",
    "150201 : \"Fachbereich 4: Ordnung und Bürgerservice\",\n",
    "203 : \"Fachbereich 5: Feuerwehr\",\n",
    "204 : \"Fachbereich 5: Feuerwehr\",    \n",
    "901 : \"Fachbereich 6: Stadtplanung und Grünflächen\",\n",
    "906 : \"Fachbereich 6: Stadtplanung und Grünflächen\",\n",
    "1001 : \"Fachbereich 6: Stadtplanung und Grünflächen\",\n",
    "1003 : \"Fachbereich 6: Stadtplanung und Grünflächen\",\n",
    "1301 : \"Fachbereich 6: Stadtplanung und Grünflächen\",\n",
    "1401 : \"Fachbereich 6: Stadtplanung und Grünflächen\",\n",
    "502 : \"Fachbereich 7: Soziales, Senioren und Wohnen\",\n",
    "503 : \"Fachbereich 7: Soziales, Senioren und Wohnen\",\n",
    "504 : \"Fachbereich 7: Soziales, Senioren und Wohnen\",\n",
    "505 : \"Fachbereich 7: Soziales, Senioren und Wohnen\",\n",
    "506 : \"Fachbereich 7: Soziales, Senioren und Wohnen\",\n",
    "508 : \"Fachbereich 7: Soziales, Senioren und Wohnen\",\n",
    "509 : \"Fachbereich 7: Soziales, Senioren und Wohnen\",\n",
    "510 : \"Fachbereich 7: Soziales, Senioren und Wohnen\", \n",
    "511 : \"Fachbereich 7: Soziales, Senioren und Wohnen\",\n",
    "512 : \"Fachbereich 7: Soziales, Senioren und Wohnen\",\n",
    "513 : \"Fachbereich 7: Soziales, Senioren und Wohnen\",\n",
    "1002 : \"Fachbereich 7: Soziales, Senioren und Wohnen\",\n",
    "20203 : \"Fachbereich 8: Soziales, Senioren und Wohnen\", \n",
    "902 : \"Fachbereich 8: Soziales, Senioren und Wohnen\",\n",
    "903 : \"Fachbereich 8: Soziales, Senioren und Wohnen\",\n",
    "904 : \"Fachbereich 8: Soziales, Senioren und Wohnen\",\n",
    "905 : \"Fachbereich 8: Soziales, Senioren und Wohnen\",\n",
    "1101 : \"Fachbereich 8: Soziales, Senioren und Wohnen\",\n",
    "120101 : \"Fachbereich 8: Soziales, Senioren und Wohnen\",\n",
    "120102 : \"Fachbereich 8: Soziales, Senioren und Wohnen\",\n",
    "120103 : \"Fachbereich 8: Soziales, Senioren und Wohnen\",\n",
    "10302  : \"Fachbereich 9: Schule und Sport\",\n",
    "301  : \"Fachbereich 9: Schule und Sport\",\n",
    "302  : \"Fachbereich 9: Schule und Sport\",\n",
    "303  : \"Fachbereich 9: Schule und Sport\",\n",
    "304  : \"Fachbereich 9: Schule und Sport\",\n",
    "305  : \"Fachbereich 9: Schule und Sport\",\n",
    "306  : \"Fachbereich 9: Schule und Sport\",\n",
    "307  : \"Fachbereich 9: Schule und Sport\",\n",
    "308  : \"Fachbereich 9: Schule und Sport\",\n",
    "801  : \"Fachbereich 9: Schule und Sport\",\n",
    "802  : \"Fachbereich 9: Schule und Sport\",\n",
    "601  : \"Fachbereich 10: Jugend\",\n",
    "602  : \"Fachbereich 10: Jugend\",\n",
    "60301  : \"Fachbereich 10: Jugend\",\n",
    "60302  : \"Fachbereich 10: Jugend\",\n",
    "105  : \"Kein Fachbereich\",\n",
    "106  : \"Kein Fachbereich\",\n",
    "401  : \"Kein Fachbereich\",\n",
    "150102  : \"Kein Fachbereich\",\n",
    "50701: \"Sonstiges\",\n",
    "50702:   \"Sonstiges\",  \n",
    "}"
   ]
  },
  {
   "cell_type": "code",
   "execution_count": 67,
   "metadata": {
    "collapsed": true
   },
   "outputs": [],
   "source": [
    "new_moers['Fachbereich'] = ''"
   ]
  },
  {
   "cell_type": "code",
   "execution_count": 68,
   "metadata": {
    "collapsed": true
   },
   "outputs": [],
   "source": [
    "dat = new_moers['Profitcenter']\n"
   ]
  },
  {
   "cell_type": "code",
   "execution_count": 69,
   "metadata": {
    "collapsed": true
   },
   "outputs": [],
   "source": [
    "dat = dat.fillna(0)"
   ]
  },
  {
   "cell_type": "code",
   "execution_count": 70,
   "metadata": {
    "collapsed": true
   },
   "outputs": [],
   "source": [
    "new_moers['Fachbereich'] = [codelist.get(int(i), 'Fachbereich 9: Schule und Sport') for i in dat.values]\n"
   ]
  },
  {
   "cell_type": "code",
   "execution_count": 71,
   "metadata": {},
   "outputs": [
    {
     "data": {
      "text/html": [
       "<div>\n",
       "<style>\n",
       "    .dataframe thead tr:only-child th {\n",
       "        text-align: right;\n",
       "    }\n",
       "\n",
       "    .dataframe thead th {\n",
       "        text-align: left;\n",
       "    }\n",
       "\n",
       "    .dataframe tbody tr th {\n",
       "        vertical-align: top;\n",
       "    }\n",
       "</style>\n",
       "<table border=\"1\" class=\"dataframe\">\n",
       "  <thead>\n",
       "    <tr style=\"text-align: right;\">\n",
       "      <th></th>\n",
       "      <th>Kontengruppe-Nummer</th>\n",
       "      <th>Kontengruppe</th>\n",
       "      <th>Profitcenter</th>\n",
       "      <th>Profitcenter-Bezeichnung</th>\n",
       "      <th>Art</th>\n",
       "      <th>PSP-Element</th>\n",
       "      <th>Kostenart</th>\n",
       "      <th>Kostenart Beschreibung</th>\n",
       "      <th>Betrag</th>\n",
       "      <th>Betrag_Typ</th>\n",
       "      <th>Jahr</th>\n",
       "      <th>HH Art</th>\n",
       "      <th>Fachbereich</th>\n",
       "    </tr>\n",
       "  </thead>\n",
       "  <tbody>\n",
       "  </tbody>\n",
       "</table>\n",
       "</div>"
      ],
      "text/plain": [
       "Empty DataFrame\n",
       "Columns: [Kontengruppe-Nummer, Kontengruppe, Profitcenter, Profitcenter-Bezeichnung, Art, PSP-Element, Kostenart, Kostenart Beschreibung, Betrag, Betrag_Typ, Jahr, HH Art, Fachbereich]\n",
       "Index: []"
      ]
     },
     "execution_count": 71,
     "metadata": {},
     "output_type": "execute_result"
    }
   ],
   "source": [
    "new_moers[new_moers['Fachbereich'].isnull()]"
   ]
  },
  {
   "cell_type": "code",
   "execution_count": 72,
   "metadata": {
    "collapsed": true
   },
   "outputs": [],
   "source": [
    "#for index, row in new_moers.iterrows():\n",
    "#    if row['Fachbereich'] is None: \n",
    "#        new_moers.ix[index, 'Fachbereich'] = 'Fachbereich 9: Schule und Sport'"
   ]
  },
  {
   "cell_type": "code",
   "execution_count": 73,
   "metadata": {},
   "outputs": [
    {
     "data": {
      "text/html": [
       "<div>\n",
       "<style>\n",
       "    .dataframe thead tr:only-child th {\n",
       "        text-align: right;\n",
       "    }\n",
       "\n",
       "    .dataframe thead th {\n",
       "        text-align: left;\n",
       "    }\n",
       "\n",
       "    .dataframe tbody tr th {\n",
       "        vertical-align: top;\n",
       "    }\n",
       "</style>\n",
       "<table border=\"1\" class=\"dataframe\">\n",
       "  <thead>\n",
       "    <tr style=\"text-align: right;\">\n",
       "      <th></th>\n",
       "      <th>Kontengruppe-Nummer</th>\n",
       "      <th>Kontengruppe</th>\n",
       "      <th>Profitcenter</th>\n",
       "      <th>Profitcenter-Bezeichnung</th>\n",
       "      <th>Art</th>\n",
       "      <th>PSP-Element</th>\n",
       "      <th>Kostenart</th>\n",
       "      <th>Kostenart Beschreibung</th>\n",
       "      <th>Betrag</th>\n",
       "      <th>Betrag_Typ</th>\n",
       "      <th>Jahr</th>\n",
       "      <th>HH Art</th>\n",
       "      <th>Fachbereich</th>\n",
       "    </tr>\n",
       "  </thead>\n",
       "  <tbody>\n",
       "  </tbody>\n",
       "</table>\n",
       "</div>"
      ],
      "text/plain": [
       "Empty DataFrame\n",
       "Columns: [Kontengruppe-Nummer, Kontengruppe, Profitcenter, Profitcenter-Bezeichnung, Art, PSP-Element, Kostenart, Kostenart Beschreibung, Betrag, Betrag_Typ, Jahr, HH Art, Fachbereich]\n",
       "Index: []"
      ]
     },
     "execution_count": 73,
     "metadata": {},
     "output_type": "execute_result"
    }
   ],
   "source": [
    "new_moers[new_moers['Fachbereich'] == 'test']"
   ]
  },
  {
   "cell_type": "code",
   "execution_count": 74,
   "metadata": {
    "collapsed": true
   },
   "outputs": [],
   "source": [
    "ebene = {\n",
    "\"Fachbereich 1: Büro des Bürgermeisters\": \"Bürgermeister Christoph Fleischhauer\", \n",
    "\"Fachbereich 2: Finanzen\": \"Dezernat I - Erster Beigeordneter und Stadtkämmerer Wolfgang Thoenes\",\n",
    "\"Fachbereich 3: Interner Service\": \"Dezernat II - Beigeordnete Kornelia zum Kolk\",\n",
    "\"Fachbereich 4: Ordnung und Bürgerservice\": \"Dezernat II - Beigeordnete Kornelia zum Kolk\",\n",
    "\"Fachbereich 7: Soziales, Senioren und Wohnen\": \"Dezernat II - Beigeordnete Kornelia zum Kolk\",\n",
    "\"Fachbereich 9: Schule und Sport\": \"Dezernat II - Beigeordnete Kornelia zum Kolk\",\n",
    "\"Fachbereich 5: Feuerwehr\": \"Dezernat III - Technischer Beigeordneter Thorsten Kamp\", \n",
    "\"Fachbereich 6: Stadtplanung und Grünflächen\": \"Dezernat III - Technischer Beigeordneter Thorsten Kamp\",\n",
    "\"Fachbereich 8: Soziales, Senioren und Wohnen\": \"Dezernat III - Technischer Beigeordneter Thorsten Kamp\",\n",
    "\"Fachbereich 10: Jugend\": \"Dezernat II - Beigeordnete Kornelia zum Kolk\",\n",
    "\"Sonstiges\": \"Dezernat II - Beigeordnete Kornelia zum Kolk\",\n",
    "\"Kein Fachbereich\": \"Weitere Organisationseinheiten\",\n",
    "}"
   ]
  },
  {
   "cell_type": "code",
   "execution_count": 75,
   "metadata": {
    "collapsed": true
   },
   "outputs": [],
   "source": [
    "teil = new_moers['Fachbereich']"
   ]
  },
  {
   "cell_type": "code",
   "execution_count": 76,
   "metadata": {
    "collapsed": true
   },
   "outputs": [],
   "source": [
    "teil = teil.fillna(0)"
   ]
  },
  {
   "cell_type": "code",
   "execution_count": 77,
   "metadata": {
    "collapsed": true
   },
   "outputs": [],
   "source": [
    "new_moers['Zuständige'] = ''"
   ]
  },
  {
   "cell_type": "code",
   "execution_count": 78,
   "metadata": {
    "collapsed": true
   },
   "outputs": [],
   "source": [
    "new_moers['Zuständige'] = [ebene[i] for i in teil.values]"
   ]
  },
  {
   "cell_type": "code",
   "execution_count": 79,
   "metadata": {
    "collapsed": true
   },
   "outputs": [],
   "source": [
    "liste2 = {\n",
    "\"1\": \"Innere Verwaltung\",\n",
    "\"2\": \"Sicherheit und Ordnung\",\n",
    "\"3\": \"Schulträgeraufgaben\",\n",
    "\"4\": \"Kultur und Wissenschaft\",\n",
    "\"5\": \"Soziale Leistungen\",\n",
    "\"6\": \"Kinder-, Jugend- und Familienhilfe\",\n",
    "\"7\": \"Gesundheitsdienste\",\n",
    "\"8\": \"Sportförderung \",\n",
    "\"9\": \"Planung / Entwicklung, Geoinformation\",\n",
    "\"10\": \"Bauen und Wohnen\",\n",
    "\"11\": \"Ver- und Entsorgung\",\n",
    "\"12\": \"Verkehrsflächen und –anlagen\",\n",
    "\"13\": \"Natur- und Landschaftspflege\",\n",
    "\"14\": \"Umweltschutz\",\n",
    "\"15\": \"Wirtschaft und Tourismus\",\n",
    "\"16\": \"Allgemeine Finanzwirtschaft\",\n",
    "}"
   ]
  },
  {
   "cell_type": "code",
   "execution_count": 80,
   "metadata": {
    "collapsed": true
   },
   "outputs": [],
   "source": [
    "def zuordnung (schluessel):\n",
    "    laenge = len(schluessel)\n",
    "    if laenge == 3 or laenge == 5: \n",
    "        index = schluessel[0]\n",
    "    else: \n",
    "        index = schluessel[0:2]\n",
    "    return liste2[index]"
   ]
  },
  {
   "cell_type": "code",
   "execution_count": 81,
   "metadata": {
    "collapsed": true
   },
   "outputs": [],
   "source": [
    "new_moers['Ebene1'] = [zuordnung(profitcenter) for profitcenter in new_moers['Profitcenter']]"
   ]
  },
  {
   "cell_type": "code",
   "execution_count": 82,
   "metadata": {
    "collapsed": true
   },
   "outputs": [],
   "source": [
    "new_moers['Ebene2'] = new_moers['Profitcenter-Bezeichnung']"
   ]
  },
  {
   "cell_type": "code",
   "execution_count": 83,
   "metadata": {
    "collapsed": true
   },
   "outputs": [],
   "source": [
    "new_moers['Ebene3'] = new_moers['Kontengruppe']"
   ]
  },
  {
   "cell_type": "code",
   "execution_count": 84,
   "metadata": {
    "collapsed": true
   },
   "outputs": [],
   "source": [
    "new_moers['Ebene4'] = new_moers['Kostenart Beschreibung']"
   ]
  },
  {
   "cell_type": "code",
   "execution_count": 85,
   "metadata": {
    "collapsed": true
   },
   "outputs": [],
   "source": [
    "del new_moers['PSP-Element']"
   ]
  },
  {
   "cell_type": "code",
   "execution_count": 86,
   "metadata": {
    "collapsed": true
   },
   "outputs": [],
   "source": [
    "teil3 = new_moers['HH Art']"
   ]
  },
  {
   "cell_type": "code",
   "execution_count": 87,
   "metadata": {
    "collapsed": true
   },
   "outputs": [],
   "source": [
    "liste3 = {\n",
    "\"Erträge\": \"Einnahmen\",\n",
    "\"Aufwendungen\": \"Ausgaben\", \n",
    "}"
   ]
  },
  {
   "cell_type": "code",
   "execution_count": 88,
   "metadata": {
    "collapsed": true
   },
   "outputs": [],
   "source": [
    "new_moers['HH Art'] = [liste3[i] for i in teil3.values]"
   ]
  },
  {
   "cell_type": "code",
   "execution_count": 89,
   "metadata": {
    "collapsed": true
   },
   "outputs": [],
   "source": [
    "new_moers.to_csv('C:\\\\Users\\\\Michael\\\\Documents\\\\OKFN\\\\Open NRW\\\\python\\\\Haushalt_py.csv', index=False, encoding='utf-8')"
   ]
  },
  {
   "cell_type": "code",
   "execution_count": 90,
   "metadata": {},
   "outputs": [
    {
     "data": {
      "text/plain": [
       "Kontengruppe-Nummer           int64\n",
       "Kontengruppe                 object\n",
       "Profitcenter                 object\n",
       "Profitcenter-Bezeichnung     object\n",
       "Art                           int64\n",
       "Kostenart                    object\n",
       "Kostenart Beschreibung       object\n",
       "Betrag                      float64\n",
       "Betrag_Typ                   object\n",
       "Jahr                          int64\n",
       "HH Art                       object\n",
       "Fachbereich                  object\n",
       "Zuständige                   object\n",
       "Ebene1                       object\n",
       "Ebene2                       object\n",
       "Ebene3                       object\n",
       "Ebene4                       object\n",
       "dtype: object"
      ]
     },
     "execution_count": 90,
     "metadata": {},
     "output_type": "execute_result"
    }
   ],
   "source": [
    "new_moers.dtypes"
   ]
  },
  {
   "cell_type": "code",
   "execution_count": null,
   "metadata": {
    "collapsed": true
   },
   "outputs": [],
   "source": []
  }
 ],
 "metadata": {
  "kernelspec": {
   "display_name": "Python 2",
   "language": "python",
   "name": "python2"
  },
  "language_info": {
   "codemirror_mode": {
    "name": "ipython",
    "version": 2
   },
   "file_extension": ".py",
   "mimetype": "text/x-python",
   "name": "python",
   "nbconvert_exporter": "python",
   "pygments_lexer": "ipython2",
   "version": "2.7.14"
  }
 },
 "nbformat": 4,
 "nbformat_minor": 2
}
