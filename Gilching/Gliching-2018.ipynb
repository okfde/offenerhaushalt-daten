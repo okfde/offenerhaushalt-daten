{
 "cells": [
  {
   "cell_type": "code",
   "execution_count": 1,
   "metadata": {},
   "outputs": [],
   "source": [
    "import pandas as pd"
   ]
  },
  {
   "cell_type": "code",
   "execution_count": 3,
   "metadata": {},
   "outputs": [],
   "source": [
    "df = pd.read_csv('/home/michael/Dokumente/OKFN/OffenerHaushalt/Gilching/Haushalt 2015-2018a.csv',  sep=';', encoding='ISO 8859-1') \n"
   ]
  },
  {
   "cell_type": "code",
   "execution_count": 16,
   "metadata": {},
   "outputs": [
    {
     "data": {
      "text/plain": [
       "Haushalt Art        object\n",
       "Titelnr.             int64\n",
       "Titel               object\n",
       "Gruppennr.           int64\n",
       "Gruppe              object\n",
       "Budget Richtung     object\n",
       "Bezeichnung         object\n",
       "Jahr                 int64\n",
       "Ansatz/Rechnung     object\n",
       "Betrag             float64\n",
       "dtype: object"
      ]
     },
     "execution_count": 16,
     "metadata": {},
     "output_type": "execute_result"
    }
   ],
   "source": [
    "df.dtypes"
   ]
  },
  {
   "cell_type": "code",
   "execution_count": 18,
   "metadata": {},
   "outputs": [],
   "source": [
    "df.Betrag = df.Betrag.astype(int)"
   ]
  },
  {
   "cell_type": "code",
   "execution_count": 20,
   "metadata": {},
   "outputs": [
    {
     "data": {
      "text/html": [
       "<div>\n",
       "<style scoped>\n",
       "    .dataframe tbody tr th:only-of-type {\n",
       "        vertical-align: middle;\n",
       "    }\n",
       "\n",
       "    .dataframe tbody tr th {\n",
       "        vertical-align: top;\n",
       "    }\n",
       "\n",
       "    .dataframe thead th {\n",
       "        text-align: right;\n",
       "    }\n",
       "</style>\n",
       "<table border=\"1\" class=\"dataframe\">\n",
       "  <thead>\n",
       "    <tr style=\"text-align: right;\">\n",
       "      <th></th>\n",
       "      <th>Haushalt Art</th>\n",
       "      <th>Titelnr.</th>\n",
       "      <th>Titel</th>\n",
       "      <th>Gruppennr.</th>\n",
       "      <th>Gruppe</th>\n",
       "      <th>Budget Richtung</th>\n",
       "      <th>Bezeichnung</th>\n",
       "      <th>Jahr</th>\n",
       "      <th>Ansatz/Rechnung</th>\n",
       "      <th>Betrag</th>\n",
       "    </tr>\n",
       "  </thead>\n",
       "  <tbody>\n",
       "    <tr>\n",
       "      <th>0</th>\n",
       "      <td>Vermögenshaushalt</td>\n",
       "      <td>0</td>\n",
       "      <td>Allgemeine Verwaltung</td>\n",
       "      <td>600</td>\n",
       "      <td>Einrichtungen f.d.gesamte Verwaltung-Rathaus</td>\n",
       "      <td>Einnahmen</td>\n",
       "      <td>Verkauf von beweglichen Sachen</td>\n",
       "      <td>2015</td>\n",
       "      <td>Rechnung</td>\n",
       "      <td>0</td>\n",
       "    </tr>\n",
       "    <tr>\n",
       "      <th>1</th>\n",
       "      <td>Vermögenshaushalt</td>\n",
       "      <td>0</td>\n",
       "      <td>Allgemeine Verwaltung</td>\n",
       "      <td>600</td>\n",
       "      <td>Einrichtungen f.d.gesamte Verwaltung-Rathaus</td>\n",
       "      <td>Einnahmen</td>\n",
       "      <td>Tilgungszuschuss KfW für Wärmepumpe (Gebäudene...</td>\n",
       "      <td>2015</td>\n",
       "      <td>Rechnung</td>\n",
       "      <td>0</td>\n",
       "    </tr>\n",
       "    <tr>\n",
       "      <th>2</th>\n",
       "      <td>Vermögenshaushalt</td>\n",
       "      <td>0</td>\n",
       "      <td>Allgemeine Verwaltung</td>\n",
       "      <td>600</td>\n",
       "      <td>Einrichtungen f.d.gesamte Verwaltung-Rathaus</td>\n",
       "      <td>Ausgaben</td>\n",
       "      <td>Erwerb von beweglichen Sachen des Anlagevermögens</td>\n",
       "      <td>2015</td>\n",
       "      <td>Rechnung</td>\n",
       "      <td>0</td>\n",
       "    </tr>\n",
       "    <tr>\n",
       "      <th>3</th>\n",
       "      <td>Vermögenshaushalt</td>\n",
       "      <td>0</td>\n",
       "      <td>Allgemeine Verwaltung</td>\n",
       "      <td>600</td>\n",
       "      <td>Einrichtungen f.d.gesamte Verwaltung-Rathaus</td>\n",
       "      <td>Ausgaben</td>\n",
       "      <td>Beschaffung von Fahrzeugen</td>\n",
       "      <td>2015</td>\n",
       "      <td>Rechnung</td>\n",
       "      <td>1751</td>\n",
       "    </tr>\n",
       "    <tr>\n",
       "      <th>4</th>\n",
       "      <td>Vermögenshaushalt</td>\n",
       "      <td>0</td>\n",
       "      <td>Allgemeine Verwaltung</td>\n",
       "      <td>600</td>\n",
       "      <td>Einrichtungen f.d.gesamte Verwaltung-Rathaus</td>\n",
       "      <td>Ausgaben</td>\n",
       "      <td>Gebäudeneubau Rathaus</td>\n",
       "      <td>2015</td>\n",
       "      <td>Rechnung</td>\n",
       "      <td>16400000</td>\n",
       "    </tr>\n",
       "  </tbody>\n",
       "</table>\n",
       "</div>"
      ],
      "text/plain": [
       "        Haushalt Art  Titelnr.                  Titel  Gruppennr.  \\\n",
       "0  Vermögenshaushalt         0  Allgemeine Verwaltung         600   \n",
       "1  Vermögenshaushalt         0  Allgemeine Verwaltung         600   \n",
       "2  Vermögenshaushalt         0  Allgemeine Verwaltung         600   \n",
       "3  Vermögenshaushalt         0  Allgemeine Verwaltung         600   \n",
       "4  Vermögenshaushalt         0  Allgemeine Verwaltung         600   \n",
       "\n",
       "                                         Gruppe Budget Richtung  \\\n",
       "0  Einrichtungen f.d.gesamte Verwaltung-Rathaus       Einnahmen   \n",
       "1  Einrichtungen f.d.gesamte Verwaltung-Rathaus       Einnahmen   \n",
       "2  Einrichtungen f.d.gesamte Verwaltung-Rathaus        Ausgaben   \n",
       "3  Einrichtungen f.d.gesamte Verwaltung-Rathaus        Ausgaben   \n",
       "4  Einrichtungen f.d.gesamte Verwaltung-Rathaus        Ausgaben   \n",
       "\n",
       "                                         Bezeichnung  Jahr Ansatz/Rechnung  \\\n",
       "0                     Verkauf von beweglichen Sachen  2015        Rechnung   \n",
       "1  Tilgungszuschuss KfW für Wärmepumpe (Gebäudene...  2015        Rechnung   \n",
       "2  Erwerb von beweglichen Sachen des Anlagevermögens  2015        Rechnung   \n",
       "3                         Beschaffung von Fahrzeugen  2015        Rechnung   \n",
       "4                              Gebäudeneubau Rathaus  2015        Rechnung   \n",
       "\n",
       "     Betrag  \n",
       "0         0  \n",
       "1         0  \n",
       "2         0  \n",
       "3      1751  \n",
       "4  16400000  "
      ]
     },
     "execution_count": 20,
     "metadata": {},
     "output_type": "execute_result"
    }
   ],
   "source": [
    "df[:5]"
   ]
  },
  {
   "cell_type": "code",
   "execution_count": 19,
   "metadata": {},
   "outputs": [
    {
     "ename": "NameError",
     "evalue": "name 'stop' is not defined",
     "output_type": "error",
     "traceback": [
      "\u001b[0;31m---------------------------------------------------------------------------\u001b[0m",
      "\u001b[0;31mNameError\u001b[0m                                 Traceback (most recent call last)",
      "\u001b[0;32m<ipython-input-19-4f76a9dad686>\u001b[0m in \u001b[0;36m<module>\u001b[0;34m()\u001b[0m\n\u001b[0;32m----> 1\u001b[0;31m \u001b[0mstop\u001b[0m\u001b[0;34m\u001b[0m\u001b[0m\n\u001b[0m",
      "\u001b[0;31mNameError\u001b[0m: name 'stop' is not defined"
     ]
    }
   ],
   "source": [
    "stop"
   ]
  },
  {
   "cell_type": "code",
   "execution_count": null,
   "metadata": {},
   "outputs": [],
   "source": [
    "df['Betrag'] = df['Betrag'].replace('.','')"
   ]
  },
  {
   "cell_type": "code",
   "execution_count": null,
   "metadata": {},
   "outputs": [],
   "source": [
    "df['Betrag'] = df['Betrag'].str.replace('.','')"
   ]
  },
  {
   "cell_type": "code",
   "execution_count": null,
   "metadata": {},
   "outputs": [],
   "source": [
    "df['Betrag'] = df['Betrag'].str.replace(' ','.')"
   ]
  },
  {
   "cell_type": "code",
   "execution_count": null,
   "metadata": {},
   "outputs": [],
   "source": [
    "df.dtypes"
   ]
  },
  {
   "cell_type": "code",
   "execution_count": null,
   "metadata": {},
   "outputs": [],
   "source": [
    "df['Betrag'] = df.apply(lambda row: abs(row[\"Betrag\"]) if row[\"Art\"] == \"Erträge\" else row[\"Betrag\"], axis=1)"
   ]
  },
  {
   "cell_type": "code",
   "execution_count": null,
   "metadata": {},
   "outputs": [],
   "source": [
    "df[:5]"
   ]
  },
  {
   "cell_type": "code",
   "execution_count": null,
   "metadata": {},
   "outputs": [],
   "source": [
    "df = df.drop(df.index[df.Art == 'inv. Einzahlungen'])"
   ]
  },
  {
   "cell_type": "code",
   "execution_count": 22,
   "metadata": {},
   "outputs": [],
   "source": [
    "df.to_csv('/home/michael/Dokumente/OKFN/Offener Haushalt/Gilching/Haushalt-2015-2018-enriched.csv', encoding='utf-8')"
   ]
  },
  {
   "cell_type": "code",
   "execution_count": null,
   "metadata": {},
   "outputs": [],
   "source": []
  }
 ],
 "metadata": {
  "kernelspec": {
   "display_name": "Python 2",
   "language": "python",
   "name": "python2"
  },
  "language_info": {
   "codemirror_mode": {
    "name": "ipython",
    "version": 2
   },
   "file_extension": ".py",
   "mimetype": "text/x-python",
   "name": "python",
   "nbconvert_exporter": "python",
   "pygments_lexer": "ipython2",
   "version": "2.7.14"
  }
 },
 "nbformat": 4,
 "nbformat_minor": 2
}
